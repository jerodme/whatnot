{
 "cells": [
  {
   "cell_type": "code",
   "execution_count": 51,
   "metadata": {},
   "outputs": [],
   "source": [
    "import pandas as pd"
   ]
  },
  {
   "cell_type": "code",
   "execution_count": 52,
   "metadata": {},
   "outputs": [
    {
     "data": {
      "text/html": [
       "<div>\n",
       "<style scoped>\n",
       "    .dataframe tbody tr th:only-of-type {\n",
       "        vertical-align: middle;\n",
       "    }\n",
       "\n",
       "    .dataframe tbody tr th {\n",
       "        vertical-align: top;\n",
       "    }\n",
       "\n",
       "    .dataframe thead th {\n",
       "        text-align: right;\n",
       "    }\n",
       "</style>\n",
       "<table border=\"1\" class=\"dataframe\">\n",
       "  <thead>\n",
       "    <tr style=\"text-align: right;\">\n",
       "      <th></th>\n",
       "      <th>user_id</th>\n",
       "      <th>seller_id</th>\n",
       "      <th>user_installed_at</th>\n",
       "      <th>is_active</th>\n",
       "      <th>seller_approved</th>\n",
       "      <th>order_id</th>\n",
       "      <th>subtotal_cents</th>\n",
       "      <th>shipping_price_cents</th>\n",
       "      <th>status</th>\n",
       "      <th>authentication_fee_cents</th>\n",
       "      <th>order_processed_at</th>\n",
       "      <th>sales_channel</th>\n",
       "      <th>style</th>\n",
       "      <th>livestream_id</th>\n",
       "      <th>listing_id</th>\n",
       "      <th>brand_name</th>\n",
       "      <th>product_name</th>\n",
       "      <th>listing_title</th>\n",
       "      <th>listing_desc</th>\n",
       "      <th>listing_condition_id</th>\n",
       "    </tr>\n",
       "  </thead>\n",
       "  <tbody>\n",
       "    <tr>\n",
       "      <th>40280</th>\n",
       "      <td>82212</td>\n",
       "      <td>75264</td>\n",
       "      <td>2020-12-24 02:04</td>\n",
       "      <td>True</td>\n",
       "      <td>False</td>\n",
       "      <td>184068</td>\n",
       "      <td>800</td>\n",
       "      <td>0</td>\n",
       "      <td>completed</td>\n",
       "      <td>0</td>\n",
       "      <td>2021-02-23 00:21</td>\n",
       "      <td>LIVESTREAM</td>\n",
       "      <td>DIRECT_ORDER</td>\n",
       "      <td>30614250-5d96-11eb-b9fd-3965403a36dc</td>\n",
       "      <td>372221</td>\n",
       "      <td>Pokemon</td>\n",
       "      <td>Sun &amp; Moon - Cosmic Eclipse Booster Pack</td>\n",
       "      <td>Sun &amp; Moon - Cosmic Eclipse Booster Pack #01</td>\n",
       "      <td>Ripped and shipped (+1 entry)</td>\n",
       "      <td>91</td>\n",
       "    </tr>\n",
       "    <tr>\n",
       "      <th>40281</th>\n",
       "      <td>86657</td>\n",
       "      <td>78923</td>\n",
       "      <td>2021-01-03 21:28</td>\n",
       "      <td>True</td>\n",
       "      <td>True</td>\n",
       "      <td>175677</td>\n",
       "      <td>3000</td>\n",
       "      <td>350</td>\n",
       "      <td>completed</td>\n",
       "      <td>0</td>\n",
       "      <td>2021-02-19 17:02</td>\n",
       "      <td>STANDARD</td>\n",
       "      <td>DIRECT_ORDER</td>\n",
       "      <td>NaN</td>\n",
       "      <td>244533</td>\n",
       "      <td>Funko</td>\n",
       "      <td>Big Bird</td>\n",
       "      <td>NaN</td>\n",
       "      <td>NaN</td>\n",
       "      <td>2</td>\n",
       "    </tr>\n",
       "    <tr>\n",
       "      <th>40282</th>\n",
       "      <td>103672</td>\n",
       "      <td>47141</td>\n",
       "      <td>2021-01-30 02:12</td>\n",
       "      <td>True</td>\n",
       "      <td>False</td>\n",
       "      <td>181028</td>\n",
       "      <td>1700</td>\n",
       "      <td>0</td>\n",
       "      <td>completed</td>\n",
       "      <td>0</td>\n",
       "      <td>2021-02-21 16:13</td>\n",
       "      <td>LIVESTREAM</td>\n",
       "      <td>DIRECT_ORDER</td>\n",
       "      <td>c8c24a50-6992-11eb-b643-8dff76c8cb0c</td>\n",
       "      <td>367268</td>\n",
       "      <td>Pokemon</td>\n",
       "      <td>Livestream Card Item</td>\n",
       "      <td>Shining Fates ETB #1 #03</td>\n",
       "      <td>NaN</td>\n",
       "      <td>88</td>\n",
       "    </tr>\n",
       "    <tr>\n",
       "      <th>40283</th>\n",
       "      <td>100236</td>\n",
       "      <td>1126</td>\n",
       "      <td>2021-01-25 06:12</td>\n",
       "      <td>True</td>\n",
       "      <td>False</td>\n",
       "      <td>184069</td>\n",
       "      <td>1400</td>\n",
       "      <td>350</td>\n",
       "      <td>completed</td>\n",
       "      <td>0</td>\n",
       "      <td>2021-02-23 00:21</td>\n",
       "      <td>LIVESTREAM</td>\n",
       "      <td>DIRECT_ORDER</td>\n",
       "      <td>9e1e53f0-72ef-11eb-9270-3b8cac001f48</td>\n",
       "      <td>372223</td>\n",
       "      <td>Funko</td>\n",
       "      <td>Fiona Goode</td>\n",
       "      <td>Fiona Goode</td>\n",
       "      <td>Good</td>\n",
       "      <td>90</td>\n",
       "    </tr>\n",
       "    <tr>\n",
       "      <th>40284</th>\n",
       "      <td>99158</td>\n",
       "      <td>79568</td>\n",
       "      <td>2021-01-24 01:55</td>\n",
       "      <td>True</td>\n",
       "      <td>False</td>\n",
       "      <td>184042</td>\n",
       "      <td>1200</td>\n",
       "      <td>350</td>\n",
       "      <td>completed</td>\n",
       "      <td>0</td>\n",
       "      <td>2021-02-23 00:09</td>\n",
       "      <td>LIVESTREAM</td>\n",
       "      <td>DIRECT_ORDER</td>\n",
       "      <td>04ac0780-6a6b-11eb-b037-0d6d71edffd9</td>\n",
       "      <td>372174</td>\n",
       "      <td>Pokemon</td>\n",
       "      <td>Live Pokemon Card</td>\n",
       "      <td>Black Star Promo - Meowth Gameboy Holo</td>\n",
       "      <td>NM - Condition as shown</td>\n",
       "      <td>88</td>\n",
       "    </tr>\n",
       "  </tbody>\n",
       "</table>\n",
       "</div>"
      ],
      "text/plain": [
       "       user_id  seller_id user_installed_at  is_active  seller_approved  \\\n",
       "40280    82212      75264  2020-12-24 02:04       True            False   \n",
       "40281    86657      78923  2021-01-03 21:28       True             True   \n",
       "40282   103672      47141  2021-01-30 02:12       True            False   \n",
       "40283   100236       1126  2021-01-25 06:12       True            False   \n",
       "40284    99158      79568  2021-01-24 01:55       True            False   \n",
       "\n",
       "       order_id  subtotal_cents  shipping_price_cents     status  \\\n",
       "40280    184068             800                     0  completed   \n",
       "40281    175677            3000                   350  completed   \n",
       "40282    181028            1700                     0  completed   \n",
       "40283    184069            1400                   350  completed   \n",
       "40284    184042            1200                   350  completed   \n",
       "\n",
       "       authentication_fee_cents order_processed_at sales_channel  \\\n",
       "40280                         0   2021-02-23 00:21    LIVESTREAM   \n",
       "40281                         0   2021-02-19 17:02      STANDARD   \n",
       "40282                         0   2021-02-21 16:13    LIVESTREAM   \n",
       "40283                         0   2021-02-23 00:21    LIVESTREAM   \n",
       "40284                         0   2021-02-23 00:09    LIVESTREAM   \n",
       "\n",
       "              style                         livestream_id  listing_id  \\\n",
       "40280  DIRECT_ORDER  30614250-5d96-11eb-b9fd-3965403a36dc      372221   \n",
       "40281  DIRECT_ORDER                                   NaN      244533   \n",
       "40282  DIRECT_ORDER  c8c24a50-6992-11eb-b643-8dff76c8cb0c      367268   \n",
       "40283  DIRECT_ORDER  9e1e53f0-72ef-11eb-9270-3b8cac001f48      372223   \n",
       "40284  DIRECT_ORDER  04ac0780-6a6b-11eb-b037-0d6d71edffd9      372174   \n",
       "\n",
       "      brand_name                              product_name  \\\n",
       "40280    Pokemon  Sun & Moon - Cosmic Eclipse Booster Pack   \n",
       "40281      Funko                                  Big Bird   \n",
       "40282    Pokemon                      Livestream Card Item   \n",
       "40283      Funko                               Fiona Goode   \n",
       "40284    Pokemon                         Live Pokemon Card   \n",
       "\n",
       "                                      listing_title  \\\n",
       "40280  Sun & Moon - Cosmic Eclipse Booster Pack #01   \n",
       "40281                                           NaN   \n",
       "40282                      Shining Fates ETB #1 #03   \n",
       "40283                                   Fiona Goode   \n",
       "40284        Black Star Promo - Meowth Gameboy Holo   \n",
       "\n",
       "                        listing_desc  listing_condition_id  \n",
       "40280  Ripped and shipped (+1 entry)                    91  \n",
       "40281                            NaN                     2  \n",
       "40282                            NaN                    88  \n",
       "40283                          Good                     90  \n",
       "40284        NM - Condition as shown                    88  "
      ]
     },
     "execution_count": 52,
     "metadata": {},
     "output_type": "execute_result"
    }
   ],
   "source": [
    "df = pd.read_csv(\"whatnot_analytics_take_home.csv\")\n",
    "df.tail()"
   ]
  },
  {
   "cell_type": "code",
   "execution_count": 53,
   "metadata": {},
   "outputs": [
    {
     "data": {
      "text/plain": [
       "(40285, 20)"
      ]
     },
     "execution_count": 53,
     "metadata": {},
     "output_type": "execute_result"
    }
   ],
   "source": [
    "df.shape"
   ]
  },
  {
   "cell_type": "code",
   "execution_count": 54,
   "metadata": {},
   "outputs": [
    {
     "data": {
      "text/plain": [
       "['user_id',\n",
       " 'seller_id',\n",
       " 'user_installed_at',\n",
       " 'is_active',\n",
       " 'seller_approved',\n",
       " 'order_id',\n",
       " 'subtotal_cents',\n",
       " 'shipping_price_cents',\n",
       " 'status',\n",
       " 'authentication_fee_cents',\n",
       " 'order_processed_at',\n",
       " 'sales_channel',\n",
       " 'style',\n",
       " 'livestream_id',\n",
       " 'listing_id',\n",
       " 'brand_name',\n",
       " 'product_name',\n",
       " 'listing_title',\n",
       " 'listing_desc',\n",
       " 'listing_condition_id']"
      ]
     },
     "execution_count": 54,
     "metadata": {},
     "output_type": "execute_result"
    }
   ],
   "source": [
    "cols = df.columns.tolist()\n",
    "cols"
   ]
  },
  {
   "cell_type": "code",
   "execution_count": 55,
   "metadata": {},
   "outputs": [
    {
     "name": "stdout",
     "output_type": "stream",
     "text": [
      "<class 'pandas.core.frame.DataFrame'>\n",
      "RangeIndex: 40285 entries, 0 to 40284\n",
      "Data columns (total 20 columns):\n",
      " #   Column                    Non-Null Count  Dtype \n",
      "---  ------                    --------------  ----- \n",
      " 0   user_id                   40285 non-null  int64 \n",
      " 1   seller_id                 40285 non-null  int64 \n",
      " 2   user_installed_at         40285 non-null  object\n",
      " 3   is_active                 40285 non-null  bool  \n",
      " 4   seller_approved           40285 non-null  bool  \n",
      " 5   order_id                  40285 non-null  int64 \n",
      " 6   subtotal_cents            40285 non-null  int64 \n",
      " 7   shipping_price_cents      40285 non-null  int64 \n",
      " 8   status                    40285 non-null  object\n",
      " 9   authentication_fee_cents  40285 non-null  int64 \n",
      " 10  order_processed_at        40285 non-null  object\n",
      " 11  sales_channel             40285 non-null  object\n",
      " 12  style                     40285 non-null  object\n",
      " 13  livestream_id             32593 non-null  object\n",
      " 14  listing_id                40285 non-null  int64 \n",
      " 15  brand_name                40285 non-null  object\n",
      " 16  product_name              40285 non-null  object\n",
      " 17  listing_title             32593 non-null  object\n",
      " 18  listing_desc              24651 non-null  object\n",
      " 19  listing_condition_id      40285 non-null  int64 \n",
      "dtypes: bool(2), int64(8), object(10)\n",
      "memory usage: 5.6+ MB\n"
     ]
    }
   ],
   "source": [
    "df.info()"
   ]
  },
  {
   "cell_type": "code",
   "execution_count": 56,
   "metadata": {},
   "outputs": [],
   "source": [
    "df['user_installed_at'] = pd.to_datetime(df['user_installed_at'])\n",
    "df['order_processed_at'] = pd.to_datetime(df['order_processed_at'])"
   ]
  },
  {
   "cell_type": "code",
   "execution_count": 57,
   "metadata": {},
   "outputs": [],
   "source": [
    "# create new column for later analysis\n",
    "\n",
    "df['activation_time'] = df['order_processed_at'] - df['user_installed_at']"
   ]
  },
  {
   "cell_type": "code",
   "execution_count": 58,
   "metadata": {},
   "outputs": [
    {
     "data": {
      "text/plain": [
       "user_id                         0\n",
       "seller_id                       0\n",
       "user_installed_at               0\n",
       "is_active                       0\n",
       "seller_approved                 0\n",
       "order_id                        0\n",
       "subtotal_cents                  0\n",
       "shipping_price_cents            0\n",
       "status                          0\n",
       "authentication_fee_cents        0\n",
       "order_processed_at              0\n",
       "sales_channel                   0\n",
       "style                           0\n",
       "livestream_id                7692\n",
       "listing_id                      0\n",
       "brand_name                      0\n",
       "product_name                    0\n",
       "listing_title                7692\n",
       "listing_desc                15634\n",
       "listing_condition_id            0\n",
       "activation_time                 0\n",
       "dtype: int64"
      ]
     },
     "execution_count": 58,
     "metadata": {},
     "output_type": "execute_result"
    }
   ],
   "source": [
    "df.isna().sum()"
   ]
  },
  {
   "cell_type": "code",
   "execution_count": 59,
   "metadata": {},
   "outputs": [
    {
     "name": "stdout",
     "output_type": "stream",
     "text": [
      "2021-02-27 23:58:00\n",
      "2020-12-18 01:47:00\n",
      "71 days 22:11:00\n"
     ]
    }
   ],
   "source": [
    "# this dataset period covers 71 days from mid-Dec to end of Feb\n",
    "\n",
    "print(max(df.order_processed_at))\n",
    "print(min(df.order_processed_at))\n",
    "print(max(df.order_processed_at) - min(df.order_processed_at))"
   ]
  },
  {
   "cell_type": "code",
   "execution_count": 60,
   "metadata": {},
   "outputs": [
    {
     "name": "stdout",
     "output_type": "stream",
     "text": [
      "1248425.39\n",
      "17583.456197183095\n"
     ]
    }
   ],
   "source": [
    "# gross this period & avg daily gross\n",
    "\n",
    "print(df.subtotal_cents.sum()/100)\n",
    "print(df.subtotal_cents.sum()/100/71)"
   ]
  },
  {
   "cell_type": "code",
   "execution_count": null,
   "metadata": {},
   "outputs": [],
   "source": []
  },
  {
   "cell_type": "code",
   "execution_count": null,
   "metadata": {},
   "outputs": [],
   "source": []
  },
  {
   "cell_type": "markdown",
   "metadata": {},
   "source": [
    "### brand and product overview:"
   ]
  },
  {
   "cell_type": "code",
   "execution_count": 61,
   "metadata": {},
   "outputs": [
    {
     "name": "stdout",
     "output_type": "stream",
     "text": [
      "\n",
      "Funko/Pokemon comprise overwhelming portion of total orders.  \n",
      "\n",
      "What could be done to attract more buyers and sellers of Panini sports cards?\n",
      "\n",
      "There are currently only 72 different people who sell Panini, \n",
      "compared to 1711 for Funko and 378 for Pokemon.\n"
     ]
    },
    {
     "data": {
      "text/html": [
       "<div>\n",
       "<style scoped>\n",
       "    .dataframe tbody tr th:only-of-type {\n",
       "        vertical-align: middle;\n",
       "    }\n",
       "\n",
       "    .dataframe tbody tr th {\n",
       "        vertical-align: top;\n",
       "    }\n",
       "\n",
       "    .dataframe thead th {\n",
       "        text-align: right;\n",
       "    }\n",
       "</style>\n",
       "<table border=\"1\" class=\"dataframe\">\n",
       "  <thead>\n",
       "    <tr style=\"text-align: right;\">\n",
       "      <th></th>\n",
       "      <th>revenue</th>\n",
       "      <th>quantity_sold</th>\n",
       "    </tr>\n",
       "    <tr>\n",
       "      <th>brand_name</th>\n",
       "      <th></th>\n",
       "      <th></th>\n",
       "    </tr>\n",
       "  </thead>\n",
       "  <tbody>\n",
       "    <tr>\n",
       "      <th>Funko</th>\n",
       "      <td>64612049</td>\n",
       "      <td>22943</td>\n",
       "    </tr>\n",
       "    <tr>\n",
       "      <th>Pokemon</th>\n",
       "      <td>54993465</td>\n",
       "      <td>16073</td>\n",
       "    </tr>\n",
       "    <tr>\n",
       "      <th>Panini</th>\n",
       "      <td>3953700</td>\n",
       "      <td>909</td>\n",
       "    </tr>\n",
       "    <tr>\n",
       "      <th>Martian Toys</th>\n",
       "      <td>430610</td>\n",
       "      <td>86</td>\n",
       "    </tr>\n",
       "    <tr>\n",
       "      <th>Other</th>\n",
       "      <td>402900</td>\n",
       "      <td>163</td>\n",
       "    </tr>\n",
       "    <tr>\n",
       "      <th>Sony</th>\n",
       "      <td>184000</td>\n",
       "      <td>2</td>\n",
       "    </tr>\n",
       "    <tr>\n",
       "      <th>Figpin</th>\n",
       "      <td>137465</td>\n",
       "      <td>71</td>\n",
       "    </tr>\n",
       "    <tr>\n",
       "      <th>Topps</th>\n",
       "      <td>59200</td>\n",
       "      <td>16</td>\n",
       "    </tr>\n",
       "    <tr>\n",
       "      <th>LootLocks</th>\n",
       "      <td>38700</td>\n",
       "      <td>14</td>\n",
       "    </tr>\n",
       "    <tr>\n",
       "      <th>Abomidable Toys</th>\n",
       "      <td>25450</td>\n",
       "      <td>5</td>\n",
       "    </tr>\n",
       "    <tr>\n",
       "      <th>Superplastic</th>\n",
       "      <td>5000</td>\n",
       "      <td>3</td>\n",
       "    </tr>\n",
       "  </tbody>\n",
       "</table>\n",
       "</div>"
      ],
      "text/plain": [
       "                  revenue  quantity_sold\n",
       "brand_name                              \n",
       "Funko            64612049          22943\n",
       "Pokemon          54993465          16073\n",
       "Panini            3953700            909\n",
       "Martian Toys       430610             86\n",
       "Other              402900            163\n",
       "Sony               184000              2\n",
       "Figpin             137465             71\n",
       "Topps               59200             16\n",
       "LootLocks           38700             14\n",
       "Abomidable Toys     25450              5\n",
       "Superplastic         5000              3"
      ]
     },
     "execution_count": 61,
     "metadata": {},
     "output_type": "execute_result"
    }
   ],
   "source": [
    "# revenue & quantity per brand\n",
    "print()\n",
    "print(\"Funko/Pokemon comprise overwhelming portion of total orders.  \\n\\nWhat could be done to attract more buyers and sellers of Panini sports cards?\")\n",
    "print()\n",
    "print(f\"There are currently only {df[df['brand_name']=='Panini']['seller_id'].nunique()} different people who sell Panini, \\ncompared to 1711 for Funko and 378 for Pokemon.\")\n",
    "\n",
    "df.groupby('brand_name').agg(revenue = pd.NamedAgg(column='subtotal_cents', aggfunc=sum),\n",
    "                             quantity_sold = pd.NamedAgg(column='subtotal_cents', aggfunc=len)).sort_values(by='revenue', ascending=False)\n"
   ]
  },
  {
   "cell_type": "code",
   "execution_count": 62,
   "metadata": {},
   "outputs": [
    {
     "data": {
      "text/plain": [
       "brand_name\n",
       "Abomidable Toys        2\n",
       "Figpin                32\n",
       "Funko               9312\n",
       "LootLocks             14\n",
       "Martian Toys          10\n",
       "Other                112\n",
       "Panini               686\n",
       "Pokemon            16073\n",
       "Topps                 13\n",
       "Name: brand_name, dtype: int64"
      ]
     },
     "execution_count": 62,
     "metadata": {},
     "output_type": "execute_result"
    }
   ],
   "source": [
    "pokemon_sellers = df[df['brand_name']=='Pokemon']['seller_id'].unique()\n",
    "pokemon_sellers\n",
    "pokemon_sellers = df[df['seller_id'].isin(pokemon_sellers)].copy()\n",
    "pokemon_sellers.groupby('brand_name')['brand_name'].count()"
   ]
  },
  {
   "cell_type": "code",
   "execution_count": 63,
   "metadata": {},
   "outputs": [
    {
     "name": "stdout",
     "output_type": "stream",
     "text": [
      "There's only 909 total Panini transactions, and 75% of those are from Pokemon sellers.\n",
      "It seems that the majority of the 72 Panini sellers are getting most of their income from selling Pokemon actually.\n",
      "Due to card sellers easily overlap different type of cards within their side hustle?\n",
      "\n",
      "NEXT ACTION: \n",
      "\t--Are we missing out on elite sports card sellers who specialize in only that (ie not Pokemon sellers who just happen to sell sports cards too?)\n",
      "\t--Is it easier to nudge Pokemon sellers to start selling sports cards or vice versa?\n",
      "\t--How to determine which outreach would be cheaper, faster or lead to larger ROI?  Guiding sellers to expand their product offerings would seem to engender loyalty, especially among early adopters, and could increase LTV\n",
      "\t--Its known that sports card trading market is nearly 5 billion, mostly on ebay; but how much of that market would be excited to discover live streaming auction experience, or is something keeping them from it?\n",
      "\t--Would sports fans prefer a slightly format to the livestream?\n",
      "\t--With news reports of sports cards outperforming the S&P and the rise of a new investor class, along with the record breaking $4.6 mil Doncic rookie card sale this  year, perhaps there are opportunitites for sports cards sellers to try out the livestream auction which would be more enjoyable\n",
      "\t--Perhaps looking into how sports sellers are onboarded, and gather some qualitative data about their experience on the app\n"
     ]
    }
   ],
   "source": [
    "print(\"There's only 909 total Panini transactions, and 75% of those are from Pokemon sellers.\\nIt seems that the majority of the 72 Panini sellers are getting most of their income from selling Pokemon actually.\\nDue to card sellers easily overlap different type of cards within their side hustle?\\n\\nNEXT ACTION: \\n\\t--Are we missing out on elite sports card sellers who specialize in only that (ie not Pokemon sellers who just happen to sell sports cards too?)\\n\\t--Is it easier to nudge Pokemon sellers to start selling sports cards or vice versa?\\n\\t--How to determine which outreach would be cheaper, faster or lead to larger ROI?  Guiding sellers to expand their product offerings would seem to engender loyalty, especially among early adopters, and could increase LTV\\n\\t--Its known that sports card trading market is nearly 5 billion, mostly on ebay; but how much of that market would be excited to discover live streaming auction experience, or is something keeping them from it?\\n\\t--Would sports fans prefer a slightly format to the livestream?\\n\\t--With news reports of sports cards outperforming the S&P and the rise of a new investor class, along with the record breaking $4.6 mil Doncic rookie card sale this  year, perhaps there are opportunitites for sports cards sellers to try out the livestream auction which would be more enjoyable\\n\\t--Perhaps looking into how sports sellers are onboarded, and gather some qualitative data about their experience on the app\")"
   ]
  },
  {
   "cell_type": "code",
   "execution_count": 64,
   "metadata": {
    "scrolled": true
   },
   "outputs": [
    {
     "data": {
      "text/html": [
       "<div>\n",
       "<style scoped>\n",
       "    .dataframe tbody tr th:only-of-type {\n",
       "        vertical-align: middle;\n",
       "    }\n",
       "\n",
       "    .dataframe tbody tr th {\n",
       "        vertical-align: top;\n",
       "    }\n",
       "\n",
       "    .dataframe thead th {\n",
       "        text-align: right;\n",
       "    }\n",
       "</style>\n",
       "<table border=\"1\" class=\"dataframe\">\n",
       "  <thead>\n",
       "    <tr style=\"text-align: right;\">\n",
       "      <th></th>\n",
       "      <th></th>\n",
       "      <th>revenue</th>\n",
       "      <th>quantity_sold</th>\n",
       "    </tr>\n",
       "    <tr>\n",
       "      <th>product_name</th>\n",
       "      <th>brand_name</th>\n",
       "      <th></th>\n",
       "      <th></th>\n",
       "    </tr>\n",
       "  </thead>\n",
       "  <tbody>\n",
       "    <tr>\n",
       "      <th>Livestream Card Item</th>\n",
       "      <th>Pokemon</th>\n",
       "      <td>16695100</td>\n",
       "      <td>3664</td>\n",
       "    </tr>\n",
       "    <tr>\n",
       "      <th>Livestream Item</th>\n",
       "      <th>Funko</th>\n",
       "      <td>8674100</td>\n",
       "      <td>2399</td>\n",
       "    </tr>\n",
       "    <tr>\n",
       "      <th>XY Evolutions Booster Pack</th>\n",
       "      <th>Pokemon</th>\n",
       "      <td>3674300</td>\n",
       "      <td>1116</td>\n",
       "    </tr>\n",
       "    <tr>\n",
       "      <th>Shiny Star V Booster Pack</th>\n",
       "      <th>Pokemon</th>\n",
       "      <td>3199700</td>\n",
       "      <td>970</td>\n",
       "    </tr>\n",
       "    <tr>\n",
       "      <th>Hidden Fates Booster Pack</th>\n",
       "      <th>Pokemon</th>\n",
       "      <td>2998575</td>\n",
       "      <td>1015</td>\n",
       "    </tr>\n",
       "    <tr>\n",
       "      <th>slot 1</th>\n",
       "      <th>Funko</th>\n",
       "      <td>2976400</td>\n",
       "      <td>541</td>\n",
       "    </tr>\n",
       "    <tr>\n",
       "      <th>Live Pokemon Booster Pack</th>\n",
       "      <th>Pokemon</th>\n",
       "      <td>2199500</td>\n",
       "      <td>716</td>\n",
       "    </tr>\n",
       "    <tr>\n",
       "      <th>Shining Fates Booster Pack</th>\n",
       "      <th>Pokemon</th>\n",
       "      <td>1778400</td>\n",
       "      <td>648</td>\n",
       "    </tr>\n",
       "    <tr>\n",
       "      <th>Champions Path Booster Pack</th>\n",
       "      <th>Pokemon</th>\n",
       "      <td>1606200</td>\n",
       "      <td>782</td>\n",
       "    </tr>\n",
       "    <tr>\n",
       "      <th>Live Pokemon Card</th>\n",
       "      <th>Pokemon</th>\n",
       "      <td>1502500</td>\n",
       "      <td>387</td>\n",
       "    </tr>\n",
       "    <tr>\n",
       "      <th>Livestream Booster Pack</th>\n",
       "      <th>Pokemon</th>\n",
       "      <td>1489600</td>\n",
       "      <td>600</td>\n",
       "    </tr>\n",
       "    <tr>\n",
       "      <th>Livestream Sports Card Item</th>\n",
       "      <th>Panini</th>\n",
       "      <td>1407600</td>\n",
       "      <td>327</td>\n",
       "    </tr>\n",
       "    <tr>\n",
       "      <th>Vivid Voltage Booster Pack</th>\n",
       "      <th>Pokemon</th>\n",
       "      <td>1375900</td>\n",
       "      <td>673</td>\n",
       "    </tr>\n",
       "    <tr>\n",
       "      <th>Jungle Booster Pack [Unlimited Edition]</th>\n",
       "      <th>Pokemon</th>\n",
       "      <td>1245700</td>\n",
       "      <td>37</td>\n",
       "    </tr>\n",
       "    <tr>\n",
       "      <th>Sword &amp; Shield - Vivid Voltage</th>\n",
       "      <th>Pokemon</th>\n",
       "      <td>1027100</td>\n",
       "      <td>462</td>\n",
       "    </tr>\n",
       "    <tr>\n",
       "      <th>Live Funko</th>\n",
       "      <th>Funko</th>\n",
       "      <td>997400</td>\n",
       "      <td>372</td>\n",
       "    </tr>\n",
       "    <tr>\n",
       "      <th>Mystery Box</th>\n",
       "      <th>Funko</th>\n",
       "      <td>976100</td>\n",
       "      <td>307</td>\n",
       "    </tr>\n",
       "    <tr>\n",
       "      <th>Live Sports Card</th>\n",
       "      <th>Panini</th>\n",
       "      <td>661600</td>\n",
       "      <td>196</td>\n",
       "    </tr>\n",
       "    <tr>\n",
       "      <th>AokisCardhouse Break: Base Set &amp; Base Set 2 Pack + Mystery Box (2/10/21)</th>\n",
       "      <th>Pokemon</th>\n",
       "      <td>660000</td>\n",
       "      <td>3</td>\n",
       "    </tr>\n",
       "    <tr>\n",
       "      <th>Sword &amp; Shield - Darkness Ablaze Booster Pack</th>\n",
       "      <th>Pokemon</th>\n",
       "      <td>546600</td>\n",
       "      <td>331</td>\n",
       "    </tr>\n",
       "    <tr>\n",
       "      <th>Unified Minds Booster Pack</th>\n",
       "      <th>Pokemon</th>\n",
       "      <td>531200</td>\n",
       "      <td>257</td>\n",
       "    </tr>\n",
       "    <tr>\n",
       "      <th>Shiny Star V Booster Box</th>\n",
       "      <th>Pokemon</th>\n",
       "      <td>502600</td>\n",
       "      <td>103</td>\n",
       "    </tr>\n",
       "    <tr>\n",
       "      <th>Hidden Fates Elite Trainer Box</th>\n",
       "      <th>Pokemon</th>\n",
       "      <td>494050</td>\n",
       "      <td>56</td>\n",
       "    </tr>\n",
       "    <tr>\n",
       "      <th>Champion's Path Elite Trainer Box</th>\n",
       "      <th>Pokemon</th>\n",
       "      <td>491175</td>\n",
       "      <td>111</td>\n",
       "    </tr>\n",
       "    <tr>\n",
       "      <th>Add Pokemon Card or Sealed Product</th>\n",
       "      <th>Pokemon</th>\n",
       "      <td>464300</td>\n",
       "      <td>105</td>\n",
       "    </tr>\n",
       "  </tbody>\n",
       "</table>\n",
       "</div>"
      ],
      "text/plain": [
       "                                                                revenue  \\\n",
       "product_name                                       brand_name             \n",
       "Livestream Card Item                               Pokemon     16695100   \n",
       "Livestream Item                                    Funko        8674100   \n",
       "XY Evolutions Booster Pack                         Pokemon      3674300   \n",
       "Shiny Star V Booster Pack                          Pokemon      3199700   \n",
       "Hidden Fates Booster Pack                          Pokemon      2998575   \n",
       "slot 1                                             Funko        2976400   \n",
       "Live Pokemon Booster Pack                          Pokemon      2199500   \n",
       "Shining Fates Booster Pack                         Pokemon      1778400   \n",
       "Champions Path Booster Pack                        Pokemon      1606200   \n",
       "Live Pokemon Card                                  Pokemon      1502500   \n",
       "Livestream Booster Pack                            Pokemon      1489600   \n",
       "Livestream Sports Card Item                        Panini       1407600   \n",
       "Vivid Voltage Booster Pack                         Pokemon      1375900   \n",
       "Jungle Booster Pack [Unlimited Edition]            Pokemon      1245700   \n",
       "Sword & Shield - Vivid Voltage                     Pokemon      1027100   \n",
       "Live Funko                                         Funko         997400   \n",
       "Mystery Box                                        Funko         976100   \n",
       "Live Sports Card                                   Panini        661600   \n",
       "AokisCardhouse Break: Base Set & Base Set 2 Pac... Pokemon       660000   \n",
       "Sword & Shield - Darkness Ablaze Booster Pack      Pokemon       546600   \n",
       "Unified Minds Booster Pack                         Pokemon       531200   \n",
       "Shiny Star V Booster Box                           Pokemon       502600   \n",
       "Hidden Fates Elite Trainer Box                     Pokemon       494050   \n",
       "Champion's Path Elite Trainer Box                  Pokemon       491175   \n",
       "Add Pokemon Card or Sealed Product                 Pokemon       464300   \n",
       "\n",
       "                                                               quantity_sold  \n",
       "product_name                                       brand_name                 \n",
       "Livestream Card Item                               Pokemon              3664  \n",
       "Livestream Item                                    Funko                2399  \n",
       "XY Evolutions Booster Pack                         Pokemon              1116  \n",
       "Shiny Star V Booster Pack                          Pokemon               970  \n",
       "Hidden Fates Booster Pack                          Pokemon              1015  \n",
       "slot 1                                             Funko                 541  \n",
       "Live Pokemon Booster Pack                          Pokemon               716  \n",
       "Shining Fates Booster Pack                         Pokemon               648  \n",
       "Champions Path Booster Pack                        Pokemon               782  \n",
       "Live Pokemon Card                                  Pokemon               387  \n",
       "Livestream Booster Pack                            Pokemon               600  \n",
       "Livestream Sports Card Item                        Panini                327  \n",
       "Vivid Voltage Booster Pack                         Pokemon               673  \n",
       "Jungle Booster Pack [Unlimited Edition]            Pokemon                37  \n",
       "Sword & Shield - Vivid Voltage                     Pokemon               462  \n",
       "Live Funko                                         Funko                 372  \n",
       "Mystery Box                                        Funko                 307  \n",
       "Live Sports Card                                   Panini                196  \n",
       "AokisCardhouse Break: Base Set & Base Set 2 Pac... Pokemon                 3  \n",
       "Sword & Shield - Darkness Ablaze Booster Pack      Pokemon               331  \n",
       "Unified Minds Booster Pack                         Pokemon               257  \n",
       "Shiny Star V Booster Box                           Pokemon               103  \n",
       "Hidden Fates Elite Trainer Box                     Pokemon                56  \n",
       "Champion's Path Elite Trainer Box                  Pokemon               111  \n",
       "Add Pokemon Card or Sealed Product                 Pokemon               105  "
      ]
     },
     "execution_count": 64,
     "metadata": {},
     "output_type": "execute_result"
    }
   ],
   "source": [
    "# top 25 products this period (gross revenue & quantity)\n",
    "    # might be nice to have more details about \"Livestream Card Item\" and \"Livestream Item\" and so we can get more granular.\n",
    "\n",
    "products = pd.DataFrame(df.groupby(['product_name', 'brand_name']).agg(\n",
    "    revenue =pd.NamedAgg(column='subtotal_cents', aggfunc=sum),\n",
    "    quantity_sold = pd.NamedAgg(column='subtotal_cents', aggfunc='count'),)).sort_values(by='revenue', ascending=False)\n",
    "products[:25]"
   ]
  },
  {
   "cell_type": "code",
   "execution_count": 65,
   "metadata": {
    "scrolled": true
   },
   "outputs": [
    {
     "data": {
      "text/plain": [
       "<AxesSubplot:ylabel='brand_name'>"
      ]
     },
     "execution_count": 65,
     "metadata": {},
     "output_type": "execute_result"
    },
    {
     "data": {
      "image/png": "[encoded data removed]",
      "text/plain": [
       "<Figure size 432x288 with 1 Axes>"
      ]
     },
     "metadata": {
      "needs_background": "light"
     },
     "output_type": "display_data"
    }
   ],
   "source": [
    "# Funko and Pokemon brands are really crushing it compared to other brands for this period\n",
    "\n",
    "df.groupby('brand_name')['subtotal_cents'].sum().sort_values().plot.barh()"
   ]
  },
  {
   "cell_type": "code",
   "execution_count": 66,
   "metadata": {},
   "outputs": [
    {
     "data": {
      "text/plain": [
       "brand_name\n",
       "Funko              6069\n",
       "Pokemon            1051\n",
       "Figpin               55\n",
       "Panini               44\n",
       "Other                 7\n",
       "Topps                 6\n",
       "Martian Toys          5\n",
       "Abomidable Toys       4\n",
       "Superplastic          3\n",
       "Sony                  1\n",
       "LootLocks             1\n",
       "Name: product_name, dtype: int64"
      ]
     },
     "execution_count": 66,
     "metadata": {},
     "output_type": "execute_result"
    }
   ],
   "source": [
    "# Funko has 6069 different products, a much wider array than other brands\n",
    "\n",
    "df.groupby('brand_name')['product_name'].nunique().sort_values(ascending=False)"
   ]
  },
  {
   "cell_type": "code",
   "execution_count": 67,
   "metadata": {},
   "outputs": [
    {
     "name": "stdout",
     "output_type": "stream",
     "text": [
      "\n",
      "Percent of total transactions - per brand\n"
     ]
    },
    {
     "data": {
      "text/plain": [
       "{'Funko': 56.95,\n",
       " 'Pokemon': 39.9,\n",
       " 'Panini': 2.26,\n",
       " 'Other': 0.4,\n",
       " 'Figpin': 0.18,\n",
       " 'Martian Toys': 0.21,\n",
       " 'Topps': 0.04,\n",
       " 'Abomidable Toys': 0.01,\n",
       " 'Superplastic': 0.01,\n",
       " 'LootLocks': 0.03,\n",
       " 'Sony': 0.0}"
      ]
     },
     "execution_count": 67,
     "metadata": {},
     "output_type": "execute_result"
    }
   ],
   "source": [
    "print()\n",
    "print('Percent of total transactions - per brand') \n",
    "\n",
    "perc_trans = {}\n",
    "for x in df.brand_name.unique().tolist():\n",
    "    perc_trans[x] = round(len(df[df['brand_name']==x])/len(df)*100,2)\n",
    "    #print(f\"{x}          {round(len(df[df['brand_name']==x])/len(df)*100,2)}%\")\n",
    "    #print(f\"{x} had \\t {len(df[df['brand_name']==x])} transactions in this period\")\n",
    "perc_trans"
   ]
  },
  {
   "cell_type": "code",
   "execution_count": 68,
   "metadata": {
    "scrolled": true
   },
   "outputs": [
    {
     "data": {
      "text/html": [
       "<div>\n",
       "<style scoped>\n",
       "    .dataframe tbody tr th:only-of-type {\n",
       "        vertical-align: middle;\n",
       "    }\n",
       "\n",
       "    .dataframe tbody tr th {\n",
       "        vertical-align: top;\n",
       "    }\n",
       "\n",
       "    .dataframe thead th {\n",
       "        text-align: right;\n",
       "    }\n",
       "</style>\n",
       "<table border=\"1\" class=\"dataframe\">\n",
       "  <thead>\n",
       "    <tr style=\"text-align: right;\">\n",
       "      <th></th>\n",
       "      <th>subtotal_cents</th>\n",
       "      <th>brand_name</th>\n",
       "      <th>product_name</th>\n",
       "    </tr>\n",
       "  </thead>\n",
       "  <tbody>\n",
       "    <tr>\n",
       "      <th>6900</th>\n",
       "      <td>270000</td>\n",
       "      <td>Funko</td>\n",
       "      <td>Energizer Bunny (Diamond Glitter)</td>\n",
       "    </tr>\n",
       "    <tr>\n",
       "      <th>2217</th>\n",
       "      <td>241900</td>\n",
       "      <td>Pokemon</td>\n",
       "      <td>Livestream Card Item</td>\n",
       "    </tr>\n",
       "    <tr>\n",
       "      <th>704</th>\n",
       "      <td>220000</td>\n",
       "      <td>Pokemon</td>\n",
       "      <td>AokisCardhouse Break: Base Set &amp; Base Set 2 Pa...</td>\n",
       "    </tr>\n",
       "    <tr>\n",
       "      <th>22770</th>\n",
       "      <td>220000</td>\n",
       "      <td>Pokemon</td>\n",
       "      <td>AokisCardhouse Break: Base Set &amp; Base Set 2 Pa...</td>\n",
       "    </tr>\n",
       "    <tr>\n",
       "      <th>19810</th>\n",
       "      <td>220000</td>\n",
       "      <td>Pokemon</td>\n",
       "      <td>AokisCardhouse Break: Base Set &amp; Base Set 2 Pa...</td>\n",
       "    </tr>\n",
       "    <tr>\n",
       "      <th>18199</th>\n",
       "      <td>160000</td>\n",
       "      <td>Pokemon</td>\n",
       "      <td>Raichu - Fossil</td>\n",
       "    </tr>\n",
       "    <tr>\n",
       "      <th>14107</th>\n",
       "      <td>150000</td>\n",
       "      <td>Funko</td>\n",
       "      <td>slot 1</td>\n",
       "    </tr>\n",
       "    <tr>\n",
       "      <th>26571</th>\n",
       "      <td>125000</td>\n",
       "      <td>Pokemon</td>\n",
       "      <td>Base Set Booster Pack</td>\n",
       "    </tr>\n",
       "    <tr>\n",
       "      <th>20894</th>\n",
       "      <td>125000</td>\n",
       "      <td>Funko</td>\n",
       "      <td>slot 1</td>\n",
       "    </tr>\n",
       "    <tr>\n",
       "      <th>10057</th>\n",
       "      <td>120000</td>\n",
       "      <td>Funko</td>\n",
       "      <td>Freddy Funko - Hulk Hogan Injured</td>\n",
       "    </tr>\n",
       "    <tr>\n",
       "      <th>37739</th>\n",
       "      <td>110000</td>\n",
       "      <td>Panini</td>\n",
       "      <td>Add Graded Sports Card or Sealed Product</td>\n",
       "    </tr>\n",
       "    <tr>\n",
       "      <th>30622</th>\n",
       "      <td>99900</td>\n",
       "      <td>Pokemon</td>\n",
       "      <td>Livestream Card Item</td>\n",
       "    </tr>\n",
       "    <tr>\n",
       "      <th>40116</th>\n",
       "      <td>95000</td>\n",
       "      <td>Sony</td>\n",
       "      <td>Playstation 5 (Blu-Ray Edition)</td>\n",
       "    </tr>\n",
       "    <tr>\n",
       "      <th>13065</th>\n",
       "      <td>94000</td>\n",
       "      <td>Pokemon</td>\n",
       "      <td>Livestream Card Item</td>\n",
       "    </tr>\n",
       "    <tr>\n",
       "      <th>32826</th>\n",
       "      <td>90000</td>\n",
       "      <td>Panini</td>\n",
       "      <td>2020 Panini Donruss Optic Football Hobby Box</td>\n",
       "    </tr>\n",
       "    <tr>\n",
       "      <th>40234</th>\n",
       "      <td>89000</td>\n",
       "      <td>Sony</td>\n",
       "      <td>Playstation 5 (Blu-Ray Edition)</td>\n",
       "    </tr>\n",
       "    <tr>\n",
       "      <th>33795</th>\n",
       "      <td>87000</td>\n",
       "      <td>Funko</td>\n",
       "      <td>Gizmo (Flocked)</td>\n",
       "    </tr>\n",
       "    <tr>\n",
       "      <th>38058</th>\n",
       "      <td>80000</td>\n",
       "      <td>Funko</td>\n",
       "      <td>The Mandalorian (D23)</td>\n",
       "    </tr>\n",
       "    <tr>\n",
       "      <th>27262</th>\n",
       "      <td>79600</td>\n",
       "      <td>Pokemon</td>\n",
       "      <td>Charizard V (Secret) (Champion's Path)</td>\n",
       "    </tr>\n",
       "    <tr>\n",
       "      <th>29284</th>\n",
       "      <td>78100</td>\n",
       "      <td>Funko</td>\n",
       "      <td>Obi-Wan Kenobi (Glows in the Dark)</td>\n",
       "    </tr>\n",
       "  </tbody>\n",
       "</table>\n",
       "</div>"
      ],
      "text/plain": [
       "       subtotal_cents brand_name  \\\n",
       "6900           270000      Funko   \n",
       "2217           241900    Pokemon   \n",
       "704            220000    Pokemon   \n",
       "22770          220000    Pokemon   \n",
       "19810          220000    Pokemon   \n",
       "18199          160000    Pokemon   \n",
       "14107          150000      Funko   \n",
       "26571          125000    Pokemon   \n",
       "20894          125000      Funko   \n",
       "10057          120000      Funko   \n",
       "37739          110000     Panini   \n",
       "30622           99900    Pokemon   \n",
       "40116           95000       Sony   \n",
       "13065           94000    Pokemon   \n",
       "32826           90000     Panini   \n",
       "40234           89000       Sony   \n",
       "33795           87000      Funko   \n",
       "38058           80000      Funko   \n",
       "27262           79600    Pokemon   \n",
       "29284           78100      Funko   \n",
       "\n",
       "                                            product_name  \n",
       "6900                   Energizer Bunny (Diamond Glitter)  \n",
       "2217                                Livestream Card Item  \n",
       "704    AokisCardhouse Break: Base Set & Base Set 2 Pa...  \n",
       "22770  AokisCardhouse Break: Base Set & Base Set 2 Pa...  \n",
       "19810  AokisCardhouse Break: Base Set & Base Set 2 Pa...  \n",
       "18199                                    Raichu - Fossil  \n",
       "14107                                             slot 1  \n",
       "26571                              Base Set Booster Pack  \n",
       "20894                                             slot 1  \n",
       "10057                  Freddy Funko - Hulk Hogan Injured  \n",
       "37739           Add Graded Sports Card or Sealed Product  \n",
       "30622                               Livestream Card Item  \n",
       "40116                    Playstation 5 (Blu-Ray Edition)  \n",
       "13065                               Livestream Card Item  \n",
       "32826       2020 Panini Donruss Optic Football Hobby Box  \n",
       "40234                    Playstation 5 (Blu-Ray Edition)  \n",
       "33795                                    Gizmo (Flocked)  \n",
       "38058                              The Mandalorian (D23)  \n",
       "27262             Charizard V (Secret) (Champion's Path)  \n",
       "29284                 Obi-Wan Kenobi (Glows in the Dark)  "
      ]
     },
     "execution_count": 68,
     "metadata": {},
     "output_type": "execute_result"
    }
   ],
   "source": [
    "# Here are the 20 MOST EXPENSIVE PRODUCTS during the period.\n",
    "\n",
    "#      NEXT ACTIONS, NEED MORE DATA:\n",
    "#      how long did these live streams last?\n",
    "#      how intense was the bidding?\n",
    "#      how did the users first hear about the live?\n",
    "#      how profitable are these products for whatnot?\n",
    "#      how difficult are they to have human verification?\n",
    "#      what % of these sales were later contested, and for what reason?\n",
    "#      how many of the buyers used a $3 off activation coupon or some other special?\n",
    "\n",
    "\n",
    "\n",
    "df[['subtotal_cents', 'brand_name', 'product_name']].sort_values(by='subtotal_cents', ascending=False)[:20]"
   ]
  },
  {
   "cell_type": "code",
   "execution_count": 69,
   "metadata": {},
   "outputs": [
    {
     "data": {
      "text/plain": [
       "66835     5\n",
       "60677     5\n",
       "75999     5\n",
       "48944     4\n",
       "18195     4\n",
       "64183     4\n",
       "19045     3\n",
       "107272    3\n",
       "35113     3\n",
       "81224     2\n",
       "81831     2\n",
       "16891     2\n",
       "4882      2\n",
       "68932     2\n",
       "84082     2\n",
       "79568     2\n",
       "1         2\n",
       "35187     2\n",
       "8027      2\n",
       "74119     2\n",
       "17641     2\n",
       "Name: seller_id, dtype: int64"
      ]
     },
     "execution_count": 69,
     "metadata": {},
     "output_type": "execute_result"
    }
   ],
   "source": [
    "# these sellers each sold at least 2 of the top 100 MOST EXPENSIVE PRODUCTS.  who are they?\n",
    "\n",
    "    # NEXT ACTIONS, NEED MORE DATA:\n",
    "    # how were these sellers acquired?\n",
    "    # how active are they on social media?\n",
    "    # how many attended their live?\n",
    "    # how many lives are they hosting monthly?\n",
    "    # can we send an NPS survey after their most successful auction?\n",
    "    # can we reward them with some kind of milestone?\n",
    "    # what is the star rating of the seller, and how did it change after the sale?\n",
    "\n",
    "df[['subtotal_cents','seller_id']].sort_values(by='subtotal_cents', ascending=False)[:100]['seller_id'].value_counts()[:21]"
   ]
  },
  {
   "cell_type": "code",
   "execution_count": 70,
   "metadata": {},
   "outputs": [
    {
     "data": {
      "text/plain": [
       "0"
      ]
     },
     "execution_count": 70,
     "metadata": {},
     "output_type": "execute_result"
    }
   ],
   "source": [
    "# no null values\n",
    "df.brand_name.isna().sum()"
   ]
  },
  {
   "cell_type": "code",
   "execution_count": 71,
   "metadata": {},
   "outputs": [
    {
     "data": {
      "text/plain": [
       "1948"
      ]
     },
     "execution_count": 71,
     "metadata": {},
     "output_type": "execute_result"
    }
   ],
   "source": [
    "# num of sellers this period\n",
    "\n",
    "df.seller_id.nunique()"
   ]
  },
  {
   "cell_type": "code",
   "execution_count": 72,
   "metadata": {},
   "outputs": [
    {
     "data": {
      "text/plain": [
       "1649"
      ]
     },
     "execution_count": 72,
     "metadata": {},
     "output_type": "execute_result"
    }
   ],
   "source": [
    "# num of sellers not yet approved \n",
    "    # NEXT ACTION, NEED MORE DATA:\n",
    "    # not sure what this means -- human expert verification no longer needed for approved sellers?\n",
    "    # understanding what metrics will predict which sellers no longer need human verification could be a big $$ saver.\n",
    "\n",
    "df.seller_id.loc[~df.seller_approved].nunique()"
   ]
  },
  {
   "cell_type": "code",
   "execution_count": null,
   "metadata": {},
   "outputs": [],
   "source": []
  },
  {
   "cell_type": "code",
   "execution_count": null,
   "metadata": {},
   "outputs": [],
   "source": []
  },
  {
   "cell_type": "code",
   "execution_count": 73,
   "metadata": {},
   "outputs": [
    {
     "data": {
      "text/html": [
       "<div>\n",
       "<style scoped>\n",
       "    .dataframe tbody tr th:only-of-type {\n",
       "        vertical-align: middle;\n",
       "    }\n",
       "\n",
       "    .dataframe tbody tr th {\n",
       "        vertical-align: top;\n",
       "    }\n",
       "\n",
       "    .dataframe thead th {\n",
       "        text-align: right;\n",
       "    }\n",
       "</style>\n",
       "<table border=\"1\" class=\"dataframe\">\n",
       "  <thead>\n",
       "    <tr style=\"text-align: right;\">\n",
       "      <th></th>\n",
       "      <th>transactions</th>\n",
       "    </tr>\n",
       "  </thead>\n",
       "  <tbody>\n",
       "    <tr>\n",
       "      <th>19045</th>\n",
       "      <td>1074</td>\n",
       "    </tr>\n",
       "    <tr>\n",
       "      <th>80021</th>\n",
       "      <td>842</td>\n",
       "    </tr>\n",
       "    <tr>\n",
       "      <th>24164</th>\n",
       "      <td>809</td>\n",
       "    </tr>\n",
       "    <tr>\n",
       "      <th>87575</th>\n",
       "      <td>784</td>\n",
       "    </tr>\n",
       "    <tr>\n",
       "      <th>84082</th>\n",
       "      <td>645</td>\n",
       "    </tr>\n",
       "    <tr>\n",
       "      <th>38875</th>\n",
       "      <td>637</td>\n",
       "    </tr>\n",
       "    <tr>\n",
       "      <th>79104</th>\n",
       "      <td>608</td>\n",
       "    </tr>\n",
       "    <tr>\n",
       "      <th>74119</th>\n",
       "      <td>591</td>\n",
       "    </tr>\n",
       "    <tr>\n",
       "      <th>8027</th>\n",
       "      <td>580</td>\n",
       "    </tr>\n",
       "    <tr>\n",
       "      <th>67901</th>\n",
       "      <td>568</td>\n",
       "    </tr>\n",
       "  </tbody>\n",
       "</table>\n",
       "</div>"
      ],
      "text/plain": [
       "       transactions\n",
       "19045          1074\n",
       "80021           842\n",
       "24164           809\n",
       "87575           784\n",
       "84082           645\n",
       "38875           637\n",
       "79104           608\n",
       "74119           591\n",
       "8027            580\n",
       "67901           568"
      ]
     },
     "execution_count": 73,
     "metadata": {},
     "output_type": "execute_result"
    }
   ],
   "source": [
    "# top 10 sellers by num of transactions\n",
    "\n",
    "vip_sellers = pd.DataFrame(df.seller_id.value_counts())\n",
    "vip_sellers.columns = ['transactions']\n",
    "vip_sellers[:10]"
   ]
  },
  {
   "cell_type": "code",
   "execution_count": null,
   "metadata": {},
   "outputs": [],
   "source": []
  },
  {
   "cell_type": "code",
   "execution_count": null,
   "metadata": {},
   "outputs": [],
   "source": []
  },
  {
   "cell_type": "code",
   "execution_count": null,
   "metadata": {},
   "outputs": [],
   "source": []
  },
  {
   "cell_type": "markdown",
   "metadata": {},
   "source": [
    "###  busy sellers cohort.   what do we know about them?"
   ]
  },
  {
   "cell_type": "code",
   "execution_count": 74,
   "metadata": {},
   "outputs": [
    {
     "name": "stdout",
     "output_type": "stream",
     "text": [
      "There were 127 sellers who sold more than a product per day during this period.\n"
     ]
    }
   ],
   "source": [
    "vip_sellers_71 = vip_sellers[vip_sellers['transactions']>71]\n",
    "print(f\"There were {len(vip_sellers_71)} sellers who sold more than a product per day during this period.\")"
   ]
  },
  {
   "cell_type": "code",
   "execution_count": 75,
   "metadata": {},
   "outputs": [
    {
     "name": "stdout",
     "output_type": "stream",
     "text": [
      "They are responsible for 72.68710438128335 percent of transactions during this period.\n"
     ]
    }
   ],
   "source": [
    "# they are responsible for 72% of transactions \n",
    "\n",
    "vip_sellers_71_list = vip_sellers_71.index.tolist()\n",
    "df_vip = df[df['seller_id'].isin(vip_sellers_71_list)]\n",
    "\n",
    "print(f\"They are responsible for {df_vip.shape[0]/df.shape[0]*100} percent of transactions during this period.\")"
   ]
  },
  {
   "cell_type": "code",
   "execution_count": 76,
   "metadata": {},
   "outputs": [
    {
     "name": "stdout",
     "output_type": "stream",
     "text": [
      "Our busy seller cohort which is 6.52% of our sellers are selling to 53.27% of our users.\n",
      "What feedback and suggestions are we currently getting from them?\n"
     ]
    }
   ],
   "source": [
    "print(f\"Our busy seller cohort which is {round(df_vip.seller_id.nunique()/df.seller_id.nunique()*100,2)}% of our sellers are selling to {round(df_vip.user_id.nunique()/df.user_id.nunique()*100,2)}% of our users.\\nWhat feedback and suggestions are we currently getting from them?\")"
   ]
  },
  {
   "cell_type": "code",
   "execution_count": 77,
   "metadata": {},
   "outputs": [
    {
     "name": "stdout",
     "output_type": "stream",
     "text": [
      "9 days 11:15:10.349075975\n",
      "The overall average time it takes a new user to make first purchase is 9.5 days.\n"
     ]
    }
   ],
   "source": [
    "# probably some outliers, but:\n",
    "\n",
    "first_order_time = pd.DataFrame(df.groupby('seller_id')['activation_time'].min())\n",
    "print(first_order_time.activation_time.mean())\n",
    "print(\"The overall average time it takes a new user to make first purchase is 9.5 days.\")"
   ]
  },
  {
   "cell_type": "code",
   "execution_count": 78,
   "metadata": {},
   "outputs": [],
   "source": [
    "\n",
    "# I wonder how many livestream they've had in those 9 days?  \n",
    "    # Generally, how many livestreams does it take to get to their first sale\n",
    "    "
   ]
  },
  {
   "cell_type": "code",
   "execution_count": 79,
   "metadata": {},
   "outputs": [
    {
     "name": "stdout",
     "output_type": "stream",
     "text": [
      "Our busy seller cohort does well connecting with brand new users: \n",
      "The new user buys from them within 21 hours of installing the app. \n",
      "Whereas overall, sellers connect after 9.5 days\n",
      "\n",
      "0 days 21:18:36.850393700\n"
     ]
    }
   ],
   "source": [
    "vip_first_order_time = pd.DataFrame(df_vip.groupby('seller_id')['activation_time'].min())\n",
    "\n",
    "print(\"Our busy seller cohort does well connecting with brand new users: \\nThe new user buys from them within 21 hours of installing the app. \\nWhereas overall, sellers connect after 9.5 days\")\n",
    "print()\n",
    "print(vip_first_order_time.activation_time.mean())\n"
   ]
  },
  {
   "cell_type": "code",
   "execution_count": 80,
   "metadata": {},
   "outputs": [],
   "source": [
    "\n",
    "# I wonder to what extent the 127 busy sellers have high social engagement on other platforms\n",
    "    # And then bring loyal users to whatnot immediately before the livestream?\n",
    "        # If this is the case with high performing sellers, how much of new user acquistion are they responsible for?\n",
    "    "
   ]
  },
  {
   "cell_type": "code",
   "execution_count": 81,
   "metadata": {},
   "outputs": [
    {
     "name": "stdout",
     "output_type": "stream",
     "text": [
      "Our busy cohort are true night owls: 54% of their orders are processed between midnight and 6am.\n"
     ]
    }
   ],
   "source": [
    "# order_processed_at could be PST or UTC or just be when orders are batched, and thus render this a moot point, but:\n",
    "\n",
    "o = pd.DataFrame(df_vip['order_processed_at'].dt.strftime('%H').value_counts())\n",
    "o[o['order_processed_at']>2000].sum()/len(df_vip)\n",
    "\n",
    "\n",
    "print(\"Our busy cohort are true night owls: 54% of their orders are processed between midnight and 6am.\")"
   ]
  },
  {
   "cell_type": "code",
   "execution_count": 82,
   "metadata": {},
   "outputs": [],
   "source": [
    "\n",
    "# Are there many livestreams scheduled for this overnight range?  Don't seem to be many advertised\n",
    "    # Maybe the the latenight ones are more haphazard and less planned?\n",
    "        # Is this an attribute of these 127 busy sellers and their buyers?\n",
    "        "
   ]
  },
  {
   "cell_type": "code",
   "execution_count": null,
   "metadata": {},
   "outputs": [],
   "source": []
  },
  {
   "cell_type": "code",
   "execution_count": null,
   "metadata": {},
   "outputs": [],
   "source": []
  },
  {
   "cell_type": "code",
   "execution_count": null,
   "metadata": {},
   "outputs": [],
   "source": []
  },
  {
   "cell_type": "code",
   "execution_count": null,
   "metadata": {},
   "outputs": [],
   "source": []
  },
  {
   "cell_type": "markdown",
   "metadata": {},
   "source": [
    "### daily transactions:"
   ]
  },
  {
   "cell_type": "code",
   "execution_count": 83,
   "metadata": {
    "scrolled": false
   },
   "outputs": [
    {
     "name": "stdout",
     "output_type": "stream",
     "text": [
      "\n",
      "Daily transactions dropped significantly early Feb; recovered some but increasingly irregular\n"
     ]
    },
    {
     "data": {
      "image/png": "[encoded data removed]",
      "text/plain": [
       "<Figure size 432x288 with 1 Axes>"
      ]
     },
     "metadata": {
      "needs_background": "light"
     },
     "output_type": "display_data"
    }
   ],
   "source": [
    "df['day'] = df['order_processed_at'].dt.date\n",
    "pd.DataFrame(df.groupby('day')['day'].count().sort_index()).plot()\n",
    "print()\n",
    "print('Daily transactions dropped significantly early Feb; recovered some but increasingly irregular')"
   ]
  },
  {
   "cell_type": "code",
   "execution_count": 84,
   "metadata": {},
   "outputs": [
    {
     "name": "stdout",
     "output_type": "stream",
     "text": [
      "Funko products are responsible for the peak, but all products took a dip early Feb.  \n",
      "Since the dip isn't product-specific, this could indicate a wider issue, such as platform outage.\n",
      "Didn't see any mentions on company twitter re: outage.\n",
      "Although its conceivable that Funko/Pokemon buyers overlap and should be considered part of the same behavioral trend.\n",
      "They aren't as different as say, Pokemon and Patrick Mahomes buyers might be.\n",
      "NEXT ACTIONS: Investigate to see why large dip on Feb 8th, and even the 15th, 22nd/23rd.\n"
     ]
    },
    {
     "data": {
      "image/png": "[encoded data removed]",
      "text/plain": [
       "<Figure size 432x288 with 1 Axes>"
      ]
     },
     "metadata": {
      "needs_background": "light"
     },
     "output_type": "display_data"
    }
   ],
   "source": [
    "# Plot of Daily Orders by Brand\n",
    "\n",
    "pd.crosstab(index=df['day'], columns=df['brand_name']).plot(rot=20).legend(loc='center left', bbox_to_anchor=(1.0, 0.5))\n",
    "print(\"Funko products are responsible for the peak, but all products took a dip early Feb.  \\nSince the dip isn't product-specific, this could indicate a wider issue, such as platform outage.\\nDidn't see any mentions on company twitter re: outage.\\nAlthough its conceivable that Funko/Pokemon buyers overlap and should be considered part of the same behavioral trend.\\nThey aren't as different as say, Pokemon and Patrick Mahomes buyers might be.\\nNEXT ACTIONS: Investigate to see why large dip on Feb 8th, and even the 15th, 22nd/23rd.\")"
   ]
  },
  {
   "cell_type": "code",
   "execution_count": 85,
   "metadata": {},
   "outputs": [
    {
     "name": "stdout",
     "output_type": "stream",
     "text": [
      "\n",
      "It seems only Livestream sales took a dip on Feb 8, while Standard sales werent affected.\n",
      "This could be more evidence of platform issue, but maybe not.\n"
     ]
    },
    {
     "data": {
      "text/plain": [
       "<matplotlib.legend.Legend at 0x254b4197610>"
      ]
     },
     "execution_count": 85,
     "metadata": {},
     "output_type": "execute_result"
    },
    {
     "data": {
      "image/png": "[encoded data removed]",
      "text/plain": [
       "<Figure size 432x288 with 1 Axes>"
      ]
     },
     "metadata": {
      "needs_background": "light"
     },
     "output_type": "display_data"
    },
    {
     "data": {
      "image/png": "[encoded data removed]",
      "text/plain": [
       "<Figure size 432x288 with 1 Axes>"
      ]
     },
     "metadata": {
      "needs_background": "light"
     },
     "output_type": "display_data"
    }
   ],
   "source": [
    "print()\n",
    "print('It seems only Livestream sales took a dip on Feb 8, while Standard sales werent affected.\\nThis could be more evidence of platform issue, but maybe not.')\n",
    "pd.crosstab(index=df['day'], columns=df['sales_channel']).plot(rot=20, title='Sales Channel').legend(loc='center left', bbox_to_anchor=(1.0, 0.5))\n",
    "pd.crosstab(index=df['day'], columns=df['status']).plot(rot=20, title='Status').legend(loc='center left', bbox_to_anchor=(1.0, 0.5))"
   ]
  },
  {
   "cell_type": "code",
   "execution_count": 86,
   "metadata": {},
   "outputs": [
    {
     "name": "stdout",
     "output_type": "stream",
     "text": [
      "\n",
      "Something happened with listing condition id 17 on the Feb 8 dip.  \n",
      "It collapsed and then never recovered. \n",
      "NEXT ACTION:\n",
      "\tMost likely company operations chose to replace that listing id with 90 and 91, but it would be good to verify this, and determine if this is a cause, effect or correlation to the dip.\n"
     ]
    },
    {
     "data": {
      "text/plain": [
       "<matplotlib.legend.Legend at 0x254b60ce1c0>"
      ]
     },
     "execution_count": 86,
     "metadata": {},
     "output_type": "execute_result"
    },
    {
     "data": {
      "image/png": "[encoded data removed]",
      "text/plain": [
       "<Figure size 432x288 with 1 Axes>"
      ]
     },
     "metadata": {
      "needs_background": "light"
     },
     "output_type": "display_data"
    }
   ],
   "source": [
    "print()\n",
    "print(\"Something happened with listing condition id 17 on the Feb 8 dip.  \\nIt collapsed and then never recovered. \\nNEXT ACTION:\\n\\tMost likely company operations chose to replace that listing id with 90 and 91, but it would be good to verify this, and determine if this is a cause, effect or correlation to the dip.\")\n",
    "\n",
    "pd.crosstab(index=df['day'], columns=df['listing_condition_id']).plot(rot=20, title=\"Listing Condition IDs\").legend(loc='center left', bbox_to_anchor=(1.0, 0.5), title='List ID')"
   ]
  },
  {
   "cell_type": "code",
   "execution_count": 87,
   "metadata": {},
   "outputs": [
    {
     "name": "stdout",
     "output_type": "stream",
     "text": [
      "\n",
      "NEXT ACTIONS:  Investigate on a product_level-not brand-what we were selling on these high volume days that declined:\n",
      "\n",
      "             day\n",
      "day             \n",
      "2021-01-31  1149\n",
      "2021-01-30  1087\n",
      "2021-01-27  1008\n",
      "2021-01-26   968\n",
      "2021-01-29   945\n",
      "2021-02-12   942\n",
      "2021-01-23   936\n",
      "2021-01-24   910\n",
      "2021-02-03   901\n",
      "2021-02-07   863\n",
      "2021-02-21   860\n",
      "2021-02-01   849\n",
      "2021-02-05   847\n",
      "2021-02-14   830\n",
      "2021-02-27   822\n"
     ]
    }
   ],
   "source": [
    "print()\n",
    "print(\"NEXT ACTIONS:  Investigate on a product_level-not brand-what we were selling on these high volume days that declined:\")\n",
    "print()\n",
    "print(pd.DataFrame(df.groupby('day')['day'].count().sort_values(ascending=False))[:15])"
   ]
  },
  {
   "cell_type": "code",
   "execution_count": 88,
   "metadata": {},
   "outputs": [
    {
     "name": "stdout",
     "output_type": "stream",
     "text": [
      "NEXT ACTION: could investigate social media sentiment such as this from Twitter (Although this might be good news for sellers):\n",
      "\n",
      "@mossfan563:\"To all my friends who sell cards, whether its Pokemon or Sports, might want to check out the WhatNot app. People overpay for nearly ANYTHING lmao Just saw a PSA 9 Lebron Top Prospects card that goes on eBay for like $60 and it sold on WhatNot for $185\"\n",
      "\n",
      "Also look more broadly into buyer behavior, such as the extent to which they'll happily pay more during a live auction than they would on an ebay.\n"
     ]
    }
   ],
   "source": [
    "print(\"NEXT ACTION: could investigate social media sentiment such as this from Twitter (Although this might be good news for sellers):\")\n",
    "print()\n",
    "print('@mossfan563:\"To all my friends who sell cards, whether its Pokemon or Sports, might want to check out the WhatNot app. People overpay for nearly ANYTHING lmao Just saw a PSA 9 Lebron Top Prospects card that goes on eBay for like $60 and it sold on WhatNot for $185\"')\n",
    "print()\n",
    "print(\"Also look more broadly into buyer behavior, such as the extent to which they'll happily pay more during a live auction than they would on an ebay.\")"
   ]
  },
  {
   "cell_type": "code",
   "execution_count": 89,
   "metadata": {},
   "outputs": [
    {
     "name": "stdout",
     "output_type": "stream",
     "text": [
      "NEXT ACTION: could see if decline in Funko corresponds with a drop off in celebrity collabs--such as Sklar Brothers in Feb?\n"
     ]
    }
   ],
   "source": [
    "print(\"NEXT ACTION: could see if decline in Funko corresponds with a drop off in celebrity collabs--such as Sklar Brothers in Feb?\")"
   ]
  },
  {
   "cell_type": "code",
   "execution_count": 90,
   "metadata": {},
   "outputs": [
    {
     "name": "stdout",
     "output_type": "stream",
     "text": [
      "NEXT ACTION: According to SEMrush, the search term 'funko whatnot' has steadily increased every month since last July.  Search volume today for this term is 4 times what it was then.  Looking into this would be a more broad approach that may not yield much for short term dips.\n"
     ]
    }
   ],
   "source": [
    "print(\"NEXT ACTION: According to SEMrush, the search term 'funko whatnot' has steadily increased every month since last July.  Search volume today for this term is 4 times what it was then.  Looking into this would be a more broad approach that may not yield much for short term dips.\")"
   ]
  },
  {
   "cell_type": "code",
   "execution_count": 91,
   "metadata": {},
   "outputs": [
    {
     "name": "stdout",
     "output_type": "stream",
     "text": [
      "NEXT ACTION: Could research if there's any negative sentiment from FB Group Funko Pop Fans https://www.facebook.com/groups/780037802786760 or  Youtuber Dr Applesauce https://www.youtube.com/watch?v=BdtSzraVpuk during this period\n"
     ]
    }
   ],
   "source": [
    "print(\"NEXT ACTION: Could research if there's any negative sentiment from FB Group Funko Pop Fans https://www.facebook.com/groups/780037802786760 or  Youtuber Dr Applesauce https://www.youtube.com/watch?v=BdtSzraVpuk during this period\")"
   ]
  },
  {
   "cell_type": "code",
   "execution_count": 92,
   "metadata": {},
   "outputs": [
    {
     "name": "stdout",
     "output_type": "stream",
     "text": [
      "Most users make purchases on Friday, Saturday, Sunday and late at night.  \n",
      "This speaks to the \"hangout and chill element\" that users experience during well run livestream with strong seller content and good chats\n"
     ]
    },
    {
     "data": {
      "text/plain": [
       "5    7045\n",
       "6    6417\n",
       "4    6275\n",
       "2    5646\n",
       "3    5556\n",
       "1    4984\n",
       "0    4362\n",
       "Name: weekday, dtype: int64"
      ]
     },
     "execution_count": 92,
     "metadata": {},
     "output_type": "execute_result"
    }
   ],
   "source": [
    "print('Most users make purchases on Friday, Saturday, Sunday and late at night.  \\nThis speaks to the \"hangout and chill element\" that users experience during well run livestream with strong seller content and good chats')\n",
    "\n",
    "df['weekday'] = df['order_processed_at'].dt.weekday\n",
    "df['weekday'].value_counts()"
   ]
  },
  {
   "cell_type": "code",
   "execution_count": null,
   "metadata": {},
   "outputs": [],
   "source": []
  },
  {
   "cell_type": "code",
   "execution_count": null,
   "metadata": {},
   "outputs": [],
   "source": []
  },
  {
   "cell_type": "code",
   "execution_count": null,
   "metadata": {},
   "outputs": [],
   "source": []
  },
  {
   "cell_type": "markdown",
   "metadata": {},
   "source": [
    "### sales channel,  style, cancellations, listing conditions:"
   ]
  },
  {
   "cell_type": "code",
   "execution_count": 93,
   "metadata": {},
   "outputs": [
    {
     "name": "stdout",
     "output_type": "stream",
     "text": [
      "Most of these 20 products sell more via STANDARD sales channel, rather than LIVESTREAM. \n",
      "Although we are a livestream platform, it might be good to see why these products sell well w/o an auction.  Maybe a recommendation engine can email these products to users for anytime purchases--not during lives\n",
      "Although STANDARD sales channel is much smaller revenue source than LIVESTREAM, it might have better ROI, particularly if some products dont require human verification\n",
      "They come for the auctions, and then discover a range of ancillary products, purchaseable anytime through STANDARD\n"
     ]
    },
    {
     "data": {
      "text/html": [
       "<div>\n",
       "<style scoped>\n",
       "    .dataframe tbody tr th:only-of-type {\n",
       "        vertical-align: middle;\n",
       "    }\n",
       "\n",
       "    .dataframe tbody tr th {\n",
       "        vertical-align: top;\n",
       "    }\n",
       "\n",
       "    .dataframe thead th {\n",
       "        text-align: right;\n",
       "    }\n",
       "</style>\n",
       "<table border=\"1\" class=\"dataframe\">\n",
       "  <thead>\n",
       "    <tr style=\"text-align: right;\">\n",
       "      <th></th>\n",
       "      <th>index</th>\n",
       "      <th>quant_sold_std</th>\n",
       "      <th>quant_sold_overall</th>\n",
       "      <th>perc</th>\n",
       "    </tr>\n",
       "  </thead>\n",
       "  <tbody>\n",
       "    <tr>\n",
       "      <th>0</th>\n",
       "      <td>Spider-Man (Black Light) Funko Pop &amp; T-shirt</td>\n",
       "      <td>50</td>\n",
       "      <td>59</td>\n",
       "      <td>0.847458</td>\n",
       "    </tr>\n",
       "    <tr>\n",
       "      <th>1</th>\n",
       "      <td>Ochaco Uraraka</td>\n",
       "      <td>39</td>\n",
       "      <td>60</td>\n",
       "      <td>0.650000</td>\n",
       "    </tr>\n",
       "    <tr>\n",
       "      <th>2</th>\n",
       "      <td>Kakashi (Lightning Blade)</td>\n",
       "      <td>34</td>\n",
       "      <td>46</td>\n",
       "      <td>0.739130</td>\n",
       "    </tr>\n",
       "    <tr>\n",
       "      <th>3</th>\n",
       "      <td>Harley Quinn (Black Light Glow)</td>\n",
       "      <td>20</td>\n",
       "      <td>32</td>\n",
       "      <td>0.625000</td>\n",
       "    </tr>\n",
       "    <tr>\n",
       "      <th>4</th>\n",
       "      <td>Scooby-Doo</td>\n",
       "      <td>19</td>\n",
       "      <td>44</td>\n",
       "      <td>0.431818</td>\n",
       "    </tr>\n",
       "    <tr>\n",
       "      <th>5</th>\n",
       "      <td>Batman (Black Light Glow)</td>\n",
       "      <td>18</td>\n",
       "      <td>37</td>\n",
       "      <td>0.486486</td>\n",
       "    </tr>\n",
       "    <tr>\n",
       "      <th>6</th>\n",
       "      <td>Rock Lee</td>\n",
       "      <td>17</td>\n",
       "      <td>27</td>\n",
       "      <td>0.629630</td>\n",
       "    </tr>\n",
       "    <tr>\n",
       "      <th>7</th>\n",
       "      <td>Madara (Reanimation)</td>\n",
       "      <td>17</td>\n",
       "      <td>25</td>\n",
       "      <td>0.680000</td>\n",
       "    </tr>\n",
       "    <tr>\n",
       "      <th>8</th>\n",
       "      <td>Mr. Compress [Fall Convention]</td>\n",
       "      <td>16</td>\n",
       "      <td>24</td>\n",
       "      <td>0.666667</td>\n",
       "    </tr>\n",
       "    <tr>\n",
       "      <th>9</th>\n",
       "      <td>Champion's Path Elite Trainer Box</td>\n",
       "      <td>16</td>\n",
       "      <td>111</td>\n",
       "      <td>0.144144</td>\n",
       "    </tr>\n",
       "    <tr>\n",
       "      <th>10</th>\n",
       "      <td>Captain America (Black Light)</td>\n",
       "      <td>16</td>\n",
       "      <td>33</td>\n",
       "      <td>0.484848</td>\n",
       "    </tr>\n",
       "    <tr>\n",
       "      <th>11</th>\n",
       "      <td>Vivid Voltage Elite Trainer Box</td>\n",
       "      <td>15</td>\n",
       "      <td>58</td>\n",
       "      <td>0.258621</td>\n",
       "    </tr>\n",
       "    <tr>\n",
       "      <th>12</th>\n",
       "      <td>Aang On Airscooter</td>\n",
       "      <td>15</td>\n",
       "      <td>24</td>\n",
       "      <td>0.625000</td>\n",
       "    </tr>\n",
       "    <tr>\n",
       "      <th>13</th>\n",
       "      <td>XY Evolutions Booster Pack</td>\n",
       "      <td>14</td>\n",
       "      <td>1116</td>\n",
       "      <td>0.012545</td>\n",
       "    </tr>\n",
       "    <tr>\n",
       "      <th>14</th>\n",
       "      <td>Spider-Man (Black Light)</td>\n",
       "      <td>13</td>\n",
       "      <td>15</td>\n",
       "      <td>0.866667</td>\n",
       "    </tr>\n",
       "    <tr>\n",
       "      <th>18</th>\n",
       "      <td>Gaara (Metallic)</td>\n",
       "      <td>12</td>\n",
       "      <td>14</td>\n",
       "      <td>0.857143</td>\n",
       "    </tr>\n",
       "    <tr>\n",
       "      <th>17</th>\n",
       "      <td>Naruto (Sage Mode)</td>\n",
       "      <td>12</td>\n",
       "      <td>29</td>\n",
       "      <td>0.413793</td>\n",
       "    </tr>\n",
       "    <tr>\n",
       "      <th>16</th>\n",
       "      <td>Dark Magician</td>\n",
       "      <td>12</td>\n",
       "      <td>24</td>\n",
       "      <td>0.500000</td>\n",
       "    </tr>\n",
       "    <tr>\n",
       "      <th>15</th>\n",
       "      <td>Carnage</td>\n",
       "      <td>12</td>\n",
       "      <td>24</td>\n",
       "      <td>0.500000</td>\n",
       "    </tr>\n",
       "    <tr>\n",
       "      <th>19</th>\n",
       "      <td>Batman (Blue)</td>\n",
       "      <td>11</td>\n",
       "      <td>20</td>\n",
       "      <td>0.550000</td>\n",
       "    </tr>\n",
       "  </tbody>\n",
       "</table>\n",
       "</div>"
      ],
      "text/plain": [
       "                                           index  quant_sold_std  \\\n",
       "0   Spider-Man (Black Light) Funko Pop & T-shirt              50   \n",
       "1                                 Ochaco Uraraka              39   \n",
       "2                      Kakashi (Lightning Blade)              34   \n",
       "3                Harley Quinn (Black Light Glow)              20   \n",
       "4                                     Scooby-Doo              19   \n",
       "5                      Batman (Black Light Glow)              18   \n",
       "6                                       Rock Lee              17   \n",
       "7                           Madara (Reanimation)              17   \n",
       "8                 Mr. Compress [Fall Convention]              16   \n",
       "9              Champion's Path Elite Trainer Box              16   \n",
       "10                 Captain America (Black Light)              16   \n",
       "11               Vivid Voltage Elite Trainer Box              15   \n",
       "12                            Aang On Airscooter              15   \n",
       "13                    XY Evolutions Booster Pack              14   \n",
       "14                      Spider-Man (Black Light)              13   \n",
       "18                              Gaara (Metallic)              12   \n",
       "17                            Naruto (Sage Mode)              12   \n",
       "16                                 Dark Magician              12   \n",
       "15                                       Carnage              12   \n",
       "19                                 Batman (Blue)              11   \n",
       "\n",
       "    quant_sold_overall      perc  \n",
       "0                   59  0.847458  \n",
       "1                   60  0.650000  \n",
       "2                   46  0.739130  \n",
       "3                   32  0.625000  \n",
       "4                   44  0.431818  \n",
       "5                   37  0.486486  \n",
       "6                   27  0.629630  \n",
       "7                   25  0.680000  \n",
       "8                   24  0.666667  \n",
       "9                  111  0.144144  \n",
       "10                  33  0.484848  \n",
       "11                  58  0.258621  \n",
       "12                  24  0.625000  \n",
       "13                1116  0.012545  \n",
       "14                  15  0.866667  \n",
       "18                  14  0.857143  \n",
       "17                  29  0.413793  \n",
       "16                  24  0.500000  \n",
       "15                  24  0.500000  \n",
       "19                  20  0.550000  "
      ]
     },
     "execution_count": 93,
     "metadata": {},
     "output_type": "execute_result"
    }
   ],
   "source": [
    "# sales channel:\n",
    "\n",
    "df_std = df[df['sales_channel']=='STANDARD'].copy()\n",
    "\n",
    "std1 = pd.DataFrame(df_std['product_name'].value_counts())\n",
    "std1.rename(columns={'product_name':'quant_sold_std'}, inplace=True)\n",
    "std1.reset_index(inplace=True)\n",
    "std2 = pd.DataFrame(df['product_name'].value_counts())\n",
    "std2.rename(columns={'product_name':'quant_sold_overall'}, inplace=True)\n",
    "std2.reset_index(inplace=True)\n",
    "std3 = pd.merge(std1, std2)\n",
    "std3['perc'] = std3['quant_sold_std']/std3['quant_sold_overall']\n",
    "std3.sort_values('quant_sold_std', ascending=False, inplace=True)\n",
    "print('Most of these 20 products sell more via STANDARD sales channel, rather than LIVESTREAM. \\nAlthough we are a livestream platform, it might be good to see why these products sell well w/o an auction.  Maybe a recommendation engine can email these products to users for anytime purchases--not during lives')\n",
    "print('Although STANDARD sales channel is much smaller revenue source than LIVESTREAM, it might have better ROI, particularly if some products dont require human verification')\n",
    "print('They come for the auctions, and then discover a range of ancillary products, purchaseable anytime through STANDARD')\n",
    "std3[:20]"
   ]
  },
  {
   "cell_type": "code",
   "execution_count": 94,
   "metadata": {},
   "outputs": [
    {
     "data": {
      "text/plain": [
       "True     40282\n",
       "False        3\n",
       "Name: is_active, dtype: int64"
      ]
     },
     "execution_count": 94,
     "metadata": {},
     "output_type": "execute_result"
    }
   ],
   "source": [
    "# almost all users are \"active\", but how is this defined?  \n",
    "    # we could make a more rigorous threshold for considered \"active\"\n",
    "        # perhaps a min num of minutes spent per week\n",
    "\n",
    "df.is_active.value_counts()"
   ]
  },
  {
   "cell_type": "code",
   "execution_count": 95,
   "metadata": {},
   "outputs": [
    {
     "name": "stdout",
     "output_type": "stream",
     "text": [
      "DIRECT_ORDER    37760\n",
      "DIRECT_OFFER     2137\n",
      "ORDER             304\n",
      "OFFER              84\n",
      "Name: style, dtype: int64\n",
      "DIRECT_ORDER    29096\n",
      "DIRECT_OFFER      159\n",
      "ORDER              22\n",
      "OFFER               5\n",
      "Name: style, dtype: int64\n",
      "\n",
      "It seems a huge porportion of sellers who aren't in the busy cohort (ie not as successful) \n",
      "\tare doing the direct offer method, instead of direct order. \n",
      "Perhaps they can be trained out of this to increase their sales?\n"
     ]
    }
   ],
   "source": [
    "# style\n",
    "\n",
    "print(df['style'].value_counts())\n",
    "print(df_vip['style'].value_counts())\n",
    "print()\n",
    "print(\"It seems a huge porportion of sellers who aren't in the busy cohort (ie not as successful) \\n\\tare doing the direct offer method, instead of direct order. \\nPerhaps they can be trained out of this to increase their sales?\")"
   ]
  },
  {
   "cell_type": "code",
   "execution_count": 96,
   "metadata": {
    "scrolled": true
   },
   "outputs": [
    {
     "data": {
      "text/plain": [
       "style\n",
       "DIRECT_OFFER      4584204\n",
       "DIRECT_ORDER    116121400\n",
       "OFFER              996935\n",
       "ORDER             3140000\n",
       "Name: subtotal_cents, dtype: int64"
      ]
     },
     "execution_count": 96,
     "metadata": {},
     "output_type": "execute_result"
    }
   ],
   "source": [
    "df.groupby('style')['subtotal_cents'].sum()"
   ]
  },
  {
   "cell_type": "code",
   "execution_count": 97,
   "metadata": {},
   "outputs": [
    {
     "data": {
      "text/plain": [
       "style\n",
       "DIRECT_OFFER      327318\n",
       "DIRECT_ORDER    90973400\n",
       "OFFER             111970\n",
       "ORDER             164000\n",
       "Name: subtotal_cents, dtype: int64"
      ]
     },
     "execution_count": 97,
     "metadata": {},
     "output_type": "execute_result"
    }
   ],
   "source": [
    "df_vip.groupby('style')['subtotal_cents'].sum()"
   ]
  },
  {
   "cell_type": "code",
   "execution_count": 98,
   "metadata": {
    "scrolled": true
   },
   "outputs": [
    {
     "name": "stdout",
     "output_type": "stream",
     "text": [
      "40\n"
     ]
    }
   ],
   "source": [
    "# 40 different listing conditions.\n",
    "    # if there were more or less categories of conditions, could this decrease disputed orders?\n",
    "\n",
    "print(df['listing_condition_id'].nunique())"
   ]
  },
  {
   "cell_type": "code",
   "execution_count": 99,
   "metadata": {},
   "outputs": [
    {
     "name": "stdout",
     "output_type": "stream",
     "text": [
      "Cancelled orders this period covered $34.2k.\n",
      "The listing conditions with high cancellation rates were minimal in terms of lost sales.\n",
      "NEXT ACTION: \n",
      "\tBut it'd be prudent to continue monitoring this, as perhaps there is a product, seller, or brand reason why these cancellations occur.\n",
      "\tFurther cancellation analysis could shed light on any number of other analyses, ux issue, or customer pain point, not to mention find ways to reduce the lost revenue.\n"
     ]
    },
    {
     "data": {
      "text/html": [
       "<div>\n",
       "<style scoped>\n",
       "    .dataframe tbody tr th:only-of-type {\n",
       "        vertical-align: middle;\n",
       "    }\n",
       "\n",
       "    .dataframe tbody tr th {\n",
       "        vertical-align: top;\n",
       "    }\n",
       "\n",
       "    .dataframe thead th {\n",
       "        text-align: right;\n",
       "    }\n",
       "</style>\n",
       "<table border=\"1\" class=\"dataframe\">\n",
       "  <thead>\n",
       "    <tr style=\"text-align: right;\">\n",
       "      <th></th>\n",
       "      <th>list_cond</th>\n",
       "      <th>cancels</th>\n",
       "      <th>overall</th>\n",
       "      <th>ratio</th>\n",
       "      <th>total_sales_cents</th>\n",
       "      <th>quantity</th>\n",
       "      <th>lost_sales_cents</th>\n",
       "    </tr>\n",
       "  </thead>\n",
       "  <tbody>\n",
       "    <tr>\n",
       "      <th>0</th>\n",
       "      <td>60</td>\n",
       "      <td>1</td>\n",
       "      <td>1</td>\n",
       "      <td>1.000000</td>\n",
       "      <td>8500</td>\n",
       "      <td>1</td>\n",
       "      <td>8500.00</td>\n",
       "    </tr>\n",
       "    <tr>\n",
       "      <th>1</th>\n",
       "      <td>55</td>\n",
       "      <td>1</td>\n",
       "      <td>2</td>\n",
       "      <td>0.500000</td>\n",
       "      <td>6350</td>\n",
       "      <td>2</td>\n",
       "      <td>3175.00</td>\n",
       "    </tr>\n",
       "    <tr>\n",
       "      <th>2</th>\n",
       "      <td>8</td>\n",
       "      <td>3</td>\n",
       "      <td>11</td>\n",
       "      <td>0.272727</td>\n",
       "      <td>29565</td>\n",
       "      <td>11</td>\n",
       "      <td>8063.18</td>\n",
       "    </tr>\n",
       "    <tr>\n",
       "      <th>3</th>\n",
       "      <td>42</td>\n",
       "      <td>1</td>\n",
       "      <td>4</td>\n",
       "      <td>0.250000</td>\n",
       "      <td>38925</td>\n",
       "      <td>4</td>\n",
       "      <td>9731.25</td>\n",
       "    </tr>\n",
       "    <tr>\n",
       "      <th>4</th>\n",
       "      <td>45</td>\n",
       "      <td>1</td>\n",
       "      <td>5</td>\n",
       "      <td>0.200000</td>\n",
       "      <td>4900</td>\n",
       "      <td>5</td>\n",
       "      <td>980.00</td>\n",
       "    </tr>\n",
       "    <tr>\n",
       "      <th>5</th>\n",
       "      <td>54</td>\n",
       "      <td>1</td>\n",
       "      <td>6</td>\n",
       "      <td>0.166667</td>\n",
       "      <td>19210</td>\n",
       "      <td>6</td>\n",
       "      <td>3201.67</td>\n",
       "    </tr>\n",
       "    <tr>\n",
       "      <th>6</th>\n",
       "      <td>41</td>\n",
       "      <td>7</td>\n",
       "      <td>66</td>\n",
       "      <td>0.106061</td>\n",
       "      <td>496130</td>\n",
       "      <td>66</td>\n",
       "      <td>52619.85</td>\n",
       "    </tr>\n",
       "    <tr>\n",
       "      <th>7</th>\n",
       "      <td>48</td>\n",
       "      <td>3</td>\n",
       "      <td>40</td>\n",
       "      <td>0.075000</td>\n",
       "      <td>158470</td>\n",
       "      <td>40</td>\n",
       "      <td>11885.25</td>\n",
       "    </tr>\n",
       "    <tr>\n",
       "      <th>8</th>\n",
       "      <td>44</td>\n",
       "      <td>3</td>\n",
       "      <td>40</td>\n",
       "      <td>0.075000</td>\n",
       "      <td>909020</td>\n",
       "      <td>40</td>\n",
       "      <td>68176.50</td>\n",
       "    </tr>\n",
       "    <tr>\n",
       "      <th>9</th>\n",
       "      <td>47</td>\n",
       "      <td>14</td>\n",
       "      <td>194</td>\n",
       "      <td>0.072165</td>\n",
       "      <td>411140</td>\n",
       "      <td>194</td>\n",
       "      <td>29669.90</td>\n",
       "    </tr>\n",
       "    <tr>\n",
       "      <th>10</th>\n",
       "      <td>78</td>\n",
       "      <td>2</td>\n",
       "      <td>31</td>\n",
       "      <td>0.064516</td>\n",
       "      <td>158300</td>\n",
       "      <td>31</td>\n",
       "      <td>10212.90</td>\n",
       "    </tr>\n",
       "    <tr>\n",
       "      <th>11</th>\n",
       "      <td>3</td>\n",
       "      <td>57</td>\n",
       "      <td>937</td>\n",
       "      <td>0.060832</td>\n",
       "      <td>2136187</td>\n",
       "      <td>937</td>\n",
       "      <td>129949.48</td>\n",
       "    </tr>\n",
       "    <tr>\n",
       "      <th>12</th>\n",
       "      <td>2</td>\n",
       "      <td>143</td>\n",
       "      <td>2484</td>\n",
       "      <td>0.057568</td>\n",
       "      <td>5844410</td>\n",
       "      <td>2484</td>\n",
       "      <td>336453.55</td>\n",
       "    </tr>\n",
       "    <tr>\n",
       "      <th>13</th>\n",
       "      <td>1</td>\n",
       "      <td>179</td>\n",
       "      <td>3477</td>\n",
       "      <td>0.051481</td>\n",
       "      <td>8382191</td>\n",
       "      <td>3477</td>\n",
       "      <td>431524.93</td>\n",
       "    </tr>\n",
       "    <tr>\n",
       "      <th>14</th>\n",
       "      <td>77</td>\n",
       "      <td>4</td>\n",
       "      <td>85</td>\n",
       "      <td>0.047059</td>\n",
       "      <td>113590</td>\n",
       "      <td>85</td>\n",
       "      <td>5345.41</td>\n",
       "    </tr>\n",
       "    <tr>\n",
       "      <th>15</th>\n",
       "      <td>11</td>\n",
       "      <td>1</td>\n",
       "      <td>22</td>\n",
       "      <td>0.045455</td>\n",
       "      <td>54765</td>\n",
       "      <td>22</td>\n",
       "      <td>2489.32</td>\n",
       "    </tr>\n",
       "    <tr>\n",
       "      <th>16</th>\n",
       "      <td>4</td>\n",
       "      <td>8</td>\n",
       "      <td>216</td>\n",
       "      <td>0.037037</td>\n",
       "      <td>348181</td>\n",
       "      <td>216</td>\n",
       "      <td>12895.59</td>\n",
       "    </tr>\n",
       "    <tr>\n",
       "      <th>17</th>\n",
       "      <td>90</td>\n",
       "      <td>192</td>\n",
       "      <td>6076</td>\n",
       "      <td>0.031600</td>\n",
       "      <td>17157500</td>\n",
       "      <td>6076</td>\n",
       "      <td>542172.48</td>\n",
       "    </tr>\n",
       "    <tr>\n",
       "      <th>18</th>\n",
       "      <td>17</td>\n",
       "      <td>425</td>\n",
       "      <td>19166</td>\n",
       "      <td>0.022175</td>\n",
       "      <td>65046300</td>\n",
       "      <td>19166</td>\n",
       "      <td>1442381.17</td>\n",
       "    </tr>\n",
       "    <tr>\n",
       "      <th>19</th>\n",
       "      <td>93</td>\n",
       "      <td>11</td>\n",
       "      <td>517</td>\n",
       "      <td>0.021277</td>\n",
       "      <td>2204000</td>\n",
       "      <td>517</td>\n",
       "      <td>46893.62</td>\n",
       "    </tr>\n",
       "    <tr>\n",
       "      <th>20</th>\n",
       "      <td>92</td>\n",
       "      <td>7</td>\n",
       "      <td>354</td>\n",
       "      <td>0.019774</td>\n",
       "      <td>776600</td>\n",
       "      <td>354</td>\n",
       "      <td>15356.50</td>\n",
       "    </tr>\n",
       "    <tr>\n",
       "      <th>21</th>\n",
       "      <td>94</td>\n",
       "      <td>2</td>\n",
       "      <td>117</td>\n",
       "      <td>0.017094</td>\n",
       "      <td>582800</td>\n",
       "      <td>117</td>\n",
       "      <td>9962.39</td>\n",
       "    </tr>\n",
       "    <tr>\n",
       "      <th>22</th>\n",
       "      <td>88</td>\n",
       "      <td>25</td>\n",
       "      <td>1709</td>\n",
       "      <td>0.014628</td>\n",
       "      <td>6605100</td>\n",
       "      <td>1709</td>\n",
       "      <td>96622.29</td>\n",
       "    </tr>\n",
       "    <tr>\n",
       "      <th>23</th>\n",
       "      <td>89</td>\n",
       "      <td>9</td>\n",
       "      <td>740</td>\n",
       "      <td>0.012162</td>\n",
       "      <td>2334900</td>\n",
       "      <td>740</td>\n",
       "      <td>28397.43</td>\n",
       "    </tr>\n",
       "    <tr>\n",
       "      <th>24</th>\n",
       "      <td>91</td>\n",
       "      <td>43</td>\n",
       "      <td>3900</td>\n",
       "      <td>0.011026</td>\n",
       "      <td>10635300</td>\n",
       "      <td>3900</td>\n",
       "      <td>117261.00</td>\n",
       "    </tr>\n",
       "  </tbody>\n",
       "</table>\n",
       "</div>"
      ],
      "text/plain": [
       "    list_cond  cancels  overall     ratio  total_sales_cents  quantity  \\\n",
       "0          60        1        1  1.000000               8500         1   \n",
       "1          55        1        2  0.500000               6350         2   \n",
       "2           8        3       11  0.272727              29565        11   \n",
       "3          42        1        4  0.250000              38925         4   \n",
       "4          45        1        5  0.200000               4900         5   \n",
       "5          54        1        6  0.166667              19210         6   \n",
       "6          41        7       66  0.106061             496130        66   \n",
       "7          48        3       40  0.075000             158470        40   \n",
       "8          44        3       40  0.075000             909020        40   \n",
       "9          47       14      194  0.072165             411140       194   \n",
       "10         78        2       31  0.064516             158300        31   \n",
       "11          3       57      937  0.060832            2136187       937   \n",
       "12          2      143     2484  0.057568            5844410      2484   \n",
       "13          1      179     3477  0.051481            8382191      3477   \n",
       "14         77        4       85  0.047059             113590        85   \n",
       "15         11        1       22  0.045455              54765        22   \n",
       "16          4        8      216  0.037037             348181       216   \n",
       "17         90      192     6076  0.031600           17157500      6076   \n",
       "18         17      425    19166  0.022175           65046300     19166   \n",
       "19         93       11      517  0.021277            2204000       517   \n",
       "20         92        7      354  0.019774             776600       354   \n",
       "21         94        2      117  0.017094             582800       117   \n",
       "22         88       25     1709  0.014628            6605100      1709   \n",
       "23         89        9      740  0.012162            2334900       740   \n",
       "24         91       43     3900  0.011026           10635300      3900   \n",
       "\n",
       "    lost_sales_cents  \n",
       "0            8500.00  \n",
       "1            3175.00  \n",
       "2            8063.18  \n",
       "3            9731.25  \n",
       "4             980.00  \n",
       "5            3201.67  \n",
       "6           52619.85  \n",
       "7           11885.25  \n",
       "8           68176.50  \n",
       "9           29669.90  \n",
       "10          10212.90  \n",
       "11         129949.48  \n",
       "12         336453.55  \n",
       "13         431524.93  \n",
       "14           5345.41  \n",
       "15           2489.32  \n",
       "16          12895.59  \n",
       "17         542172.48  \n",
       "18        1442381.17  \n",
       "19          46893.62  \n",
       "20          15356.50  \n",
       "21           9962.39  \n",
       "22          96622.29  \n",
       "23          28397.43  \n",
       "24         117261.00  "
      ]
     },
     "execution_count": 99,
     "metadata": {},
     "output_type": "execute_result"
    }
   ],
   "source": [
    "# cancelled orders & listing condition id's\n",
    "\n",
    "print(\"Cancelled orders this period covered $34.2k.\\nThe listing conditions with high cancellation rates were minimal in terms of lost sales.\\nNEXT ACTION: \\n\\tBut it'd be prudent to continue monitoring this, as perhaps there is a product, seller, or brand reason why these cancellations occur.\\n\\tFurther cancellation analysis could shed light on any number of other analyses, ux issue, or customer pain point, not to mention find ways to reduce the lost revenue.\")\n",
    "\n",
    "c = df[df['status']=='cancelled'].copy()\n",
    "c = pd.DataFrame(c['listing_condition_id'].value_counts())\n",
    "c.reset_index(inplace=True)\n",
    "c.rename(columns={'index':'list_cond', 'listing_condition_id':'cancels'}, inplace=True)\n",
    "b = df['listing_condition_id'].value_counts()\n",
    "b = pd.DataFrame(b)\n",
    "b.reset_index(inplace=True)\n",
    "b.rename(columns={'index':'list_cond', 'listing_condition_id':'overall'}, inplace=True)\n",
    "d = pd.merge(c,b)\n",
    "d['ratio'] = d['cancels']/d['overall']\n",
    "d.sort_values('ratio', ascending=False, inplace=True)\n",
    "e = pd.DataFrame(df.groupby('listing_condition_id').agg(total_sales_cents = pd.NamedAgg(column='subtotal_cents', aggfunc=sum),\n",
    "                                      quantity = pd.NamedAgg(column='subtotal_cents', aggfunc=len)).sort_values('quantity', ascending=False))\n",
    "e.reset_index(inplace=True)\n",
    "e.rename(columns={'listing_condition_id':'list_cond'}, inplace=True)\n",
    "f = pd.merge(d,e)\n",
    "f['lost_sales_cents'] = round(f['ratio']*f['total_sales_cents'], 2)\n",
    "f"
   ]
  },
  {
   "cell_type": "code",
   "execution_count": 100,
   "metadata": {},
   "outputs": [
    {
     "data": {
      "text/html": [
       "<div>\n",
       "<style scoped>\n",
       "    .dataframe tbody tr th:only-of-type {\n",
       "        vertical-align: middle;\n",
       "    }\n",
       "\n",
       "    .dataframe tbody tr th {\n",
       "        vertical-align: top;\n",
       "    }\n",
       "\n",
       "    .dataframe thead th {\n",
       "        text-align: right;\n",
       "    }\n",
       "</style>\n",
       "<table border=\"1\" class=\"dataframe\">\n",
       "  <thead>\n",
       "    <tr style=\"text-align: right;\">\n",
       "      <th></th>\n",
       "      <th>avg_sales</th>\n",
       "      <th>quantity</th>\n",
       "    </tr>\n",
       "    <tr>\n",
       "      <th>listing_condition_id</th>\n",
       "      <th></th>\n",
       "      <th></th>\n",
       "    </tr>\n",
       "  </thead>\n",
       "  <tbody>\n",
       "    <tr>\n",
       "      <th>17</th>\n",
       "      <td>3393.838047</td>\n",
       "      <td>19166</td>\n",
       "    </tr>\n",
       "    <tr>\n",
       "      <th>90</th>\n",
       "      <td>2823.815010</td>\n",
       "      <td>6076</td>\n",
       "    </tr>\n",
       "    <tr>\n",
       "      <th>91</th>\n",
       "      <td>2727.000000</td>\n",
       "      <td>3900</td>\n",
       "    </tr>\n",
       "    <tr>\n",
       "      <th>1</th>\n",
       "      <td>2410.753811</td>\n",
       "      <td>3477</td>\n",
       "    </tr>\n",
       "    <tr>\n",
       "      <th>2</th>\n",
       "      <td>2352.822061</td>\n",
       "      <td>2484</td>\n",
       "    </tr>\n",
       "    <tr>\n",
       "      <th>88</th>\n",
       "      <td>3864.891750</td>\n",
       "      <td>1709</td>\n",
       "    </tr>\n",
       "    <tr>\n",
       "      <th>3</th>\n",
       "      <td>2279.815368</td>\n",
       "      <td>937</td>\n",
       "    </tr>\n",
       "    <tr>\n",
       "      <th>89</th>\n",
       "      <td>3155.270270</td>\n",
       "      <td>740</td>\n",
       "    </tr>\n",
       "    <tr>\n",
       "      <th>93</th>\n",
       "      <td>4263.056093</td>\n",
       "      <td>517</td>\n",
       "    </tr>\n",
       "    <tr>\n",
       "      <th>92</th>\n",
       "      <td>2193.785311</td>\n",
       "      <td>354</td>\n",
       "    </tr>\n",
       "    <tr>\n",
       "      <th>4</th>\n",
       "      <td>1611.949074</td>\n",
       "      <td>216</td>\n",
       "    </tr>\n",
       "    <tr>\n",
       "      <th>47</th>\n",
       "      <td>2119.278351</td>\n",
       "      <td>194</td>\n",
       "    </tr>\n",
       "    <tr>\n",
       "      <th>94</th>\n",
       "      <td>4981.196581</td>\n",
       "      <td>117</td>\n",
       "    </tr>\n",
       "    <tr>\n",
       "      <th>77</th>\n",
       "      <td>1336.352941</td>\n",
       "      <td>85</td>\n",
       "    </tr>\n",
       "    <tr>\n",
       "      <th>41</th>\n",
       "      <td>7517.121212</td>\n",
       "      <td>66</td>\n",
       "    </tr>\n",
       "    <tr>\n",
       "      <th>48</th>\n",
       "      <td>3961.750000</td>\n",
       "      <td>40</td>\n",
       "    </tr>\n",
       "    <tr>\n",
       "      <th>44</th>\n",
       "      <td>22725.500000</td>\n",
       "      <td>40</td>\n",
       "    </tr>\n",
       "    <tr>\n",
       "      <th>14</th>\n",
       "      <td>1817.916667</td>\n",
       "      <td>36</td>\n",
       "    </tr>\n",
       "    <tr>\n",
       "      <th>78</th>\n",
       "      <td>5106.451613</td>\n",
       "      <td>31</td>\n",
       "    </tr>\n",
       "    <tr>\n",
       "      <th>11</th>\n",
       "      <td>2489.318182</td>\n",
       "      <td>22</td>\n",
       "    </tr>\n",
       "    <tr>\n",
       "      <th>95</th>\n",
       "      <td>1300.000000</td>\n",
       "      <td>15</td>\n",
       "    </tr>\n",
       "    <tr>\n",
       "      <th>8</th>\n",
       "      <td>2687.727273</td>\n",
       "      <td>11</td>\n",
       "    </tr>\n",
       "    <tr>\n",
       "      <th>24</th>\n",
       "      <td>7137.500000</td>\n",
       "      <td>6</td>\n",
       "    </tr>\n",
       "    <tr>\n",
       "      <th>49</th>\n",
       "      <td>1521.666667</td>\n",
       "      <td>6</td>\n",
       "    </tr>\n",
       "    <tr>\n",
       "      <th>54</th>\n",
       "      <td>3201.666667</td>\n",
       "      <td>6</td>\n",
       "    </tr>\n",
       "    <tr>\n",
       "      <th>45</th>\n",
       "      <td>980.000000</td>\n",
       "      <td>5</td>\n",
       "    </tr>\n",
       "    <tr>\n",
       "      <th>22</th>\n",
       "      <td>48371.250000</td>\n",
       "      <td>4</td>\n",
       "    </tr>\n",
       "    <tr>\n",
       "      <th>12</th>\n",
       "      <td>1767.500000</td>\n",
       "      <td>4</td>\n",
       "    </tr>\n",
       "    <tr>\n",
       "      <th>42</th>\n",
       "      <td>9731.250000</td>\n",
       "      <td>4</td>\n",
       "    </tr>\n",
       "    <tr>\n",
       "      <th>15</th>\n",
       "      <td>1400.000000</td>\n",
       "      <td>3</td>\n",
       "    </tr>\n",
       "    <tr>\n",
       "      <th>5</th>\n",
       "      <td>1166.666667</td>\n",
       "      <td>3</td>\n",
       "    </tr>\n",
       "    <tr>\n",
       "      <th>55</th>\n",
       "      <td>3175.000000</td>\n",
       "      <td>2</td>\n",
       "    </tr>\n",
       "    <tr>\n",
       "      <th>6</th>\n",
       "      <td>655.000000</td>\n",
       "      <td>2</td>\n",
       "    </tr>\n",
       "    <tr>\n",
       "      <th>23</th>\n",
       "      <td>22500.000000</td>\n",
       "      <td>1</td>\n",
       "    </tr>\n",
       "    <tr>\n",
       "      <th>60</th>\n",
       "      <td>8500.000000</td>\n",
       "      <td>1</td>\n",
       "    </tr>\n",
       "    <tr>\n",
       "      <th>79</th>\n",
       "      <td>3200.000000</td>\n",
       "      <td>1</td>\n",
       "    </tr>\n",
       "    <tr>\n",
       "      <th>16</th>\n",
       "      <td>800.000000</td>\n",
       "      <td>1</td>\n",
       "    </tr>\n",
       "    <tr>\n",
       "      <th>25</th>\n",
       "      <td>4250.000000</td>\n",
       "      <td>1</td>\n",
       "    </tr>\n",
       "    <tr>\n",
       "      <th>7</th>\n",
       "      <td>990.000000</td>\n",
       "      <td>1</td>\n",
       "    </tr>\n",
       "    <tr>\n",
       "      <th>30</th>\n",
       "      <td>2000.000000</td>\n",
       "      <td>1</td>\n",
       "    </tr>\n",
       "  </tbody>\n",
       "</table>\n",
       "</div>"
      ],
      "text/plain": [
       "                         avg_sales  quantity\n",
       "listing_condition_id                        \n",
       "17                     3393.838047     19166\n",
       "90                     2823.815010      6076\n",
       "91                     2727.000000      3900\n",
       "1                      2410.753811      3477\n",
       "2                      2352.822061      2484\n",
       "88                     3864.891750      1709\n",
       "3                      2279.815368       937\n",
       "89                     3155.270270       740\n",
       "93                     4263.056093       517\n",
       "92                     2193.785311       354\n",
       "4                      1611.949074       216\n",
       "47                     2119.278351       194\n",
       "94                     4981.196581       117\n",
       "77                     1336.352941        85\n",
       "41                     7517.121212        66\n",
       "48                     3961.750000        40\n",
       "44                    22725.500000        40\n",
       "14                     1817.916667        36\n",
       "78                     5106.451613        31\n",
       "11                     2489.318182        22\n",
       "95                     1300.000000        15\n",
       "8                      2687.727273        11\n",
       "24                     7137.500000         6\n",
       "49                     1521.666667         6\n",
       "54                     3201.666667         6\n",
       "45                      980.000000         5\n",
       "22                    48371.250000         4\n",
       "12                     1767.500000         4\n",
       "42                     9731.250000         4\n",
       "15                     1400.000000         3\n",
       "5                      1166.666667         3\n",
       "55                     3175.000000         2\n",
       "6                       655.000000         2\n",
       "23                    22500.000000         1\n",
       "60                     8500.000000         1\n",
       "79                     3200.000000         1\n",
       "16                      800.000000         1\n",
       "25                     4250.000000         1\n",
       "7                       990.000000         1\n",
       "30                     2000.000000         1"
      ]
     },
     "execution_count": 100,
     "metadata": {},
     "output_type": "execute_result"
    }
   ],
   "source": [
    "# would need more information about listing conditions to determine if there are correlations in sales\n",
    "    # most items on the platform are sold at condition 17 -- or where at 17\n",
    "        # while highest average transaction price is from condition 22, which are 4 expensive Pokemon.\n",
    "\n",
    "import numpy as np\n",
    "df.groupby('listing_condition_id').agg(avg_sales = pd.NamedAgg(column='subtotal_cents', aggfunc=np.mean),\n",
    "                                      quantity = pd.NamedAgg(column='subtotal_cents', aggfunc=len)).sort_values('quantity', ascending=False)\n"
   ]
  },
  {
   "cell_type": "markdown",
   "metadata": {},
   "source": [
    "#### Additional Questions to Explore:\n"
   ]
  },
  {
   "cell_type": "markdown",
   "metadata": {},
   "source": [
    "What's going on with Funko pops, why the decline?  If user makes 2nd purchase within 11 days, does that mean they're more likely to remain active on platform 4 months later? If not, when does the decline begin?  Why don't sellers get approved? How to get more info about high volume sellers?  What is CAC for each seller?  What is profit margin on each transaction, and what factors go into that?  Is there correlation between how long someone in a room and how satisfied they are with their transaction?  Maybe can put NPS survey after each sale?  Would like acquisition source per seller.  How does their frequency of livestream affect sales?  How does the livestream title affect its momentum of people joining? What is the most costly item for human verification?  Do we give pointers to sellers such as have background music, make sure your phone is charged, purchase a rotating table, have short auction times, show the package very slow, etc?  Do we have data on how often people type in chat complimenting how good the seller's content is?  Can we offer incentives for those installing during slow times of day? \n",
    "VIP Sellers: What do high vol sellers have in common? How many are doing big numbers this period?  What other data do we have on them?  How are they conducting their livestreams? How are they annoucing their livestreams on other platforms, and bringing users in as a result of that? What qualitative data do we have on them? Can we send a brief survey to them, asking for feedback.  Would like data on how many audience members visited each sellers live, and compare this to other insights above."
   ]
  }
 ],
 "metadata": {
  "kernelspec": {
   "display_name": "Python 3",
   "language": "python",
   "name": "python3"
  },
  "language_info": {
   "codemirror_mode": {
    "name": "ipython",
    "version": 3
   },
   "file_extension": ".py",
   "mimetype": "text/x-python",
   "name": "python",
   "nbconvert_exporter": "python",
   "pygments_lexer": "ipython3",
   "version": "3.8.5"
  }
 },
 "nbformat": 4,
 "nbformat_minor": 4
}
